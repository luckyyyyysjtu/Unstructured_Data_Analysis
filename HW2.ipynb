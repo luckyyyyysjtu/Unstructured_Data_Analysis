{
 "cells": [
  {
   "cell_type": "markdown",
   "metadata": {},
   "source": [
    "# Unstructured Data Analytics HW2"
   ]
  },
  {
   "cell_type": "markdown",
   "metadata": {},
   "source": [
    "## Question 1: Clustering emails using Gaussian Mixture Models [50 pts]"
   ]
  },
  {
   "cell_type": "markdown",
   "metadata": {},
   "source": [
    "For this problem, we will be analyzing emails taken from the [Enron Email Dataset](https://www.cs.cmu.edu/~enron/). We have already curated the data for you in the `data/enron` directory, with one file per email (so there is no need to redownload the dataset as it is already included in this homework zip archive). The dataset includes a combination of \"spam\" and \"ham\" emails. Spam emails are unsolicited messages intended to sell a product or scam users into providing personal information, while ham emails represent everything that is not spam.\n",
    "\n",
    "The language used in spam emails tends to be considerably different from typical business emails. Most spam filters leverage this difference in word frequencies to detect spam as it arrives and filter it out of email inboxes. We will use Gaussian Mixture Models (GMMs) to cluster the emails and attempt to identify groups of emails which are likely to be spam."
   ]
  },
  {
   "cell_type": "markdown",
   "metadata": {},
   "source": [
    "### Part A: Construct a list of processed documents [10 points]"
   ]
  },
  {
   "cell_type": "markdown",
   "metadata": {},
   "source": [
    "Provided below is a function that returns a document present in a file given a filename. The function performs some preprocessing to (1) remove punctuation, (2),(3) remove whitespace and (4) lowercase all words. Using the `make_word_list` function, construct a list of processed documents."
   ]
  },
  {
   "cell_type": "code",
   "execution_count": 1,
   "metadata": {},
   "outputs": [],
   "source": [
    "import re\n",
    "import string\n",
    "import codecs\n",
    "\n",
    "def make_word_list(path):\n",
    "    \n",
    "    with codecs.open(path, \"r\", encoding='utf-8', errors='ignore') as f:\n",
    "        corpus_text = f.read()\n",
    "\n",
    "    for c in string.punctuation:\n",
    "        corpus_text = corpus_text.replace(c, \"\")  # -- (1)\n",
    "    \n",
    "    text = re.sub(r'\\S*\\d\\S*', '', corpus_text) # -- (2)\n",
    "    text = re.sub(r'[^\\w\\s]', '', text)         # -- (3)\n",
    "    \n",
    "    text = text.lower().split()           # -- (4)         \n",
    "    \n",
    "    li = []\n",
    "    for token in text:\n",
    "        li.append(token)\n",
    "\n",
    "    return \" \".join(li)"
   ]
  },
  {
   "cell_type": "code",
   "execution_count": 2,
   "metadata": {},
   "outputs": [],
   "source": [
    "########################################################################\n",
    "######################### Write your code here #########################\n",
    "########################################################################\n",
    "import os\n",
    "\n",
    "processed_doc = []\n",
    "for filename in os.listdir(\"./data/enron\"):\n",
    "    processed_doc.append(make_word_list(\"./data/enron/\" + filename))\n"
   ]
  },
  {
   "cell_type": "markdown",
   "metadata": {},
   "source": [
    "### Part B: Construct a document matrix [10 points]"
   ]
  },
  {
   "cell_type": "markdown",
   "metadata": {},
   "source": [
    "Next, construct a document matrix `X` as a matrix of [TF-IDF](https://en.wikipedia.org/wiki/Tf%E2%80%93idf) features for each document. TF-IDF features encode information about the word frequency within a document, weighted by the frequency of the same word for corpus as a whole.\n",
    "\n",
    "   - Use the `TfidfVectorizer` from [scikit-learn](http://scikit-learn.org/stable/modules/generated/sklearn.feature_extraction.text.TfidfVectorizer.html) to create the document matrix `X`.\n",
    "   - Set `min_df=50`; this drops words that don't occur in at least 50 documents.\n",
    "   - Set `stop_words=\"english\"` and `max_df=0.8` to filter out stop-words.\n",
    "   - Print the number of unique words in the vocabulary Hint: Look for the `vocabulary_` attribute in the `TfidfVectorizer` object after fitting the vectorizer to the data set. The vocabulary will also be needed in part (d)."
   ]
  },
  {
   "cell_type": "code",
   "execution_count": 3,
   "metadata": {},
   "outputs": [
    {
     "name": "stdout",
     "output_type": "stream",
     "text": [
      "Number of unique words in the vocabulary:1680\n"
     ]
    }
   ],
   "source": [
    "########################################################################\n",
    "######################### Write your code here #########################\n",
    "########################################################################\n",
    "from sklearn.feature_extraction.text import TfidfVectorizer\n",
    "vectorizer = TfidfVectorizer(min_df=50,stop_words=\"english\",max_df=0.8)\n",
    "\n",
    "X = vectorizer.fit_transform(processed_doc)\n",
    "vocabulary = vectorizer.vocabulary_\n",
    "print(\"Number of unique words in the vocabulary:\" + str(len(vocabulary)))"
   ]
  },
  {
   "cell_type": "markdown",
   "metadata": {},
   "source": [
    "### Part C: Perform Clustering [10 points]"
   ]
  },
  {
   "cell_type": "markdown",
   "metadata": {},
   "source": [
    "Perform clustering on the document matrix `X` using GMMs. \n",
    "- Use the `GaussianMixture` module from [scikit-learn](http://scikit-learn.org/stable/modules/generated/sklearn.mixture.GaussianMixture.html) to cluster the documents.\n",
    "- Set the number of clusters (mixture components) to 3.\n",
    "- Print the number of documents assigned to each cluster."
   ]
  },
  {
   "cell_type": "code",
   "execution_count": 4,
   "metadata": {},
   "outputs": [
    {
     "name": "stdout",
     "output_type": "stream",
     "text": [
      "Cluster 0: 363\n",
      "Cluster 1: 1875\n",
      "Cluster 2: 2933\n"
     ]
    }
   ],
   "source": [
    "########################################################################\n",
    "######################### Write your code here #########################\n",
    "########################################################################\n",
    "\n",
    "from sklearn.mixture import GaussianMixture\n",
    "from collections import Counter\n",
    "import numpy as np\n",
    "\n",
    "gmm = GaussianMixture(n_components=3, random_state=0)\n",
    "X_array = X.toarray()\n",
    "gmm.fit(X_array)\n",
    "gmm_cluster_assignments = gmm.predict(X_array)\n",
    "cluster_size = Counter(gmm_cluster_assignments)\n",
    "\n",
    "for cluster,number in cluster_size.items():\n",
    "    print(\"Cluster \"+str(cluster)+\": \"+str(number))    "
   ]
  },
  {
   "cell_type": "markdown",
   "metadata": {},
   "source": [
    "### Part D: Characterize the clusters [10 points]"
   ]
  },
  {
   "cell_type": "markdown",
   "metadata": {},
   "source": [
    "Now, we will attempt to characterize the clusters based on the frequency of spam-relevant words. \n",
    "- Select 3 \"spammy\" words from the vocabulary that you expect to occur frequently in spam emails and less frequently in normal business emails (e.g., 'click', 'www', 'offer'). Construct a list, `spam_indices`, storing the indices of the spammy words you selected in the vocabulary generated by `TfidfVectorizer`.\n",
    "- Select 3 \"hammy\" words from the vocabulary you think will occur frequently in business emails and infrequently in spam emails (e.g., 'meeting', 'attached', 'review'). Construct a list, `ham_indices`, storing the indices of the hammy words you selected in the vocabulary generated by `TfidfVectorizer`.\n",
    "- Use the function provided below, `plot_spam_words_by_cluster`, to plot the average TF-IDF features for your selected spammy words and hammy words for each cluster. The function takes the following parameters:\n",
    "    - `X` is a matrix of TF-IDF features (rows index documents, columns index terms).\n",
    "    - `predicted` is predicted cluster assignments returned by `GaussianMixture.predict()`\n",
    "    - `n_clusters` is the number of clusters. This should match the number of clusters from your GMM.\n",
    "    - `spam_indices` is a list of indices of spammy words in the vocabulary.\n",
    "    - `ham_indices` is a list of indices of hammy (typical business) words in the vocabulary."
   ]
  },
  {
   "cell_type": "code",
   "execution_count": 17,
   "metadata": {},
   "outputs": [],
   "source": [
    "def plot_spam_words_by_cluster(X, predicted, n_clusters, spam_indices, ham_indices):\n",
    "    import numpy as np\n",
    "    import matplotlib.pyplot as plt\n",
    "    \n",
    "    # Calculate mean TF-IDF features for each cluster\n",
    "    mean_tfidf_spam = []\n",
    "    mean_tfidf_ham = []\n",
    "    for spam in spam_indices:\n",
    "        mean_tfidf_spam.append([])\n",
    "    for ham in ham_indices:\n",
    "        mean_tfidf_ham.append([])\n",
    "    \n",
    "    for i in range(n_clusters):\n",
    "        for j, spam_idx in enumerate(spam_indices):\n",
    "            mean_tfidf_spam[j].append(X[predicted==i, spam_idx].mean())\n",
    "        for j, ham_idx in enumerate(ham_indices):\n",
    "            mean_tfidf_ham[j].append(X[predicted==i, ham_idx].mean())\n",
    "    \n",
    "    # Generate plot\n",
    "    fig, ax = plt.subplots()\n",
    "\n",
    "    ind = np.arange(n_clusters)    # the x locations for the groups\n",
    "    width = 0.10         # the width of the bars\n",
    "\n",
    "    # Plot spam bars\n",
    "    for i, val in enumerate(mean_tfidf_spam):\n",
    "        spam_bar = ax.bar(ind - (len(mean_tfidf_spam)-i-1)*width, val, width, color='r', bottom=0)\n",
    "\n",
    "    # Plot ham bars\n",
    "    for i, val in enumerate(mean_tfidf_ham):\n",
    "        ham_bar = ax.bar(ind + (len(mean_tfidf_ham)-i)*width, val, width,\n",
    "                color='y', bottom=0)\n",
    "\n",
    "    ax.set_title('Mean TF-IDF Features by Cluster for Spam-Relevant Words')\n",
    "    ax.set_xticks(ind + width / 2)\n",
    "    xticklabels = []\n",
    "    for i in range(n_clusters):\n",
    "        xticklabels.append('Cluster ' + str(i) + '\\n(n=' + str((predicted==i).sum()) + ')')\n",
    "    ax.set_xticklabels(xticklabels)\n",
    "\n",
    "    ax.legend((spam_bar[0], ham_bar[0]), ('Spammy words', 'Hammy words'))\n",
    "    ax.autoscale_view()\n",
    "    ax.set_ylabel('Mean TF-IDF')\n",
    "    plt.show()"
   ]
  },
  {
   "cell_type": "code",
   "execution_count": 18,
   "metadata": {},
   "outputs": [
    {
     "data": {
      "image/png": "[encoded data removed]",
      "text/plain": [
       "<Figure size 640x480 with 1 Axes>"
      ]
     },
     "metadata": {},
     "output_type": "display_data"
    }
   ],
   "source": [
    "########################################################################\n",
    "######################### Write your code here #########################\n",
    "########################################################################\n",
    "spammy_words = ['click','www','offer']\n",
    "hammy_words = ['meeting','attached','review']\n",
    "\n",
    "spam_indices = [vocabulary[spammy] for spammy in spammy_words]\n",
    "ham_indices = [vocabulary[hammy] for hammy in hammy_words]\n",
    "\n",
    "plot_spam_words_by_cluster(X_array,gmm_cluster_assignments,len(set(gmm_cluster_assignments)),spam_indices,ham_indices)"
   ]
  },
  {
   "cell_type": "markdown",
   "metadata": {},
   "source": [
    "### Part E: Interpret results [10 points]"
   ]
  },
  {
   "cell_type": "markdown",
   "metadata": {},
   "source": [
    "From the plot generated in part (d), do any of the clusters correspond to spam emails, based on the frequency of spammy and hammy words? Do any of the clusters appear to correspond to typical business emails (ham)? \n",
    "\n",
    "Re-run your analysis with a different choice for the number of clusters in your GMM (e.g., `n_clusters=5` or `n_clusters=2`). How does changing the number of clusters affect your results? Does one choice of `n_clusters` appear better than another for locating clusters of spam emails?"
   ]
  },
  {
   "cell_type": "markdown",
   "metadata": {},
   "source": [
    "Based on the frequency of spammy and hammy words, cluster 0 corresponds to typical business (ham) emails while cluster 1 corresponds to spam emails. This is because in cluster 0, the mean TF-IDF is higher for hammy words and in cluster 1, the mean TF-IDF is higher for spammy words.\n",
    "\n",
    "Re-running analysis with n_clusters = 5, generally the performance of locating clusters of spam emails appears better. Spammy words in cluster 2 have very high mean TF-IDF values and in cluster 3, the ratio of spammy words TF-IDF features to hammy words TF-IDF features is also higher than the spammy cluster (Cluster1) when n_cluster = 3. More emails that can not be categorized in 3-cluster GMM are correctly identified.\n"
   ]
  },
  {
   "cell_type": "code",
   "execution_count": 19,
   "metadata": {},
   "outputs": [
    {
     "name": "stdout",
     "output_type": "stream",
     "text": [
      "Cluster 0: 1159\n",
      "Cluster 1: 461\n",
      "Cluster 2: 265\n",
      "Cluster 3: 2961\n",
      "Cluster 4: 325\n"
     ]
    },
    {
     "data": {
      "image/png": "[encoded data removed]",
      "text/plain": [
       "<Figure size 640x480 with 1 Axes>"
      ]
     },
     "metadata": {},
     "output_type": "display_data"
    }
   ],
   "source": [
    "########################################################################\n",
    "######################### Write your code here #########################\n",
    "########################################################################\n",
    "\n",
    "gmm_new = GaussianMixture(n_components=5, random_state=0)\n",
    "gmm_new.fit(X_array)\n",
    "gmm_new_cluster_assignments = gmm_new.predict(X_array)\n",
    "new_cluster_size = Counter(gmm_new_cluster_assignments)\n",
    "sorted_new_cluster_size = sorted(new_cluster_size.items(),key=lambda x:x[0])\n",
    "\n",
    "for cluster,number in sorted_new_cluster_size:\n",
    "    print(\"Cluster \"+str(cluster)+\": \"+str(number))\n",
    "\n",
    "plot_spam_words_by_cluster(X_array,gmm_new_cluster_assignments,len(set(gmm_new_cluster_assignments)),spam_indices,ham_indices)"
   ]
  },
  {
   "cell_type": "markdown",
   "metadata": {},
   "source": [
    "## Question 2: Latent \"Purposes\" in Mobile Apps [45 points]\n",
    "\n",
    "\n",
    "Think of Android applications as \"documents\", where \"words\" are the \"permissions\" that each app requests. Each app has a set of latent \"purposes\" (topics); a \"purpose\" may be a specific task (such as taking photographs and uploading them to the internet), and an application may have a mixture of purposes of varying strength.\n",
    "\n",
    "Can we uncover these purposes from a dataset of Android applications and the permissions they request?"
   ]
  },
  {
   "cell_type": "code",
   "execution_count": 20,
   "metadata": {},
   "outputs": [],
   "source": [
    "import numpy as np\n",
    "import matplotlib.pyplot as plt\n",
    "import pandas as pd\n",
    "%matplotlib inline"
   ]
  },
  {
   "cell_type": "markdown",
   "metadata": {},
   "source": [
    "### Part A: Load the data [0 points]"
   ]
  },
  {
   "cell_type": "markdown",
   "metadata": {},
   "source": [
    "The [dataset](http://www.mariofrank.net/andrApps/) contains ~180,000 applications from the Android app store, including each app's name, description and permissions requested. For more about Android app permissions, see [this report](http://www.pewinternet.org/2015/11/10/an-analysis-of-android-app-permissions/).\n",
    "\n",
    "   * Download the data and unzip it into the same folder as this notebook.\n",
    "   * Rename the CSV file to \"android.csv\".\n",
    "   * Run the cells below to load the data into the notebook.\n",
    "\n",
    "This may take up ~2GB of RAM."
   ]
  },
  {
   "cell_type": "code",
   "execution_count": 21,
   "metadata": {},
   "outputs": [],
   "source": [
    "df = pd.read_csv(\"android.csv\", sep=\",\",  thousands=\",\")"
   ]
  },
  {
   "cell_type": "code",
   "execution_count": 22,
   "metadata": {},
   "outputs": [],
   "source": [
    "df[\"Number of ratings\"] = df[\"Number of ratings\"].astype(int) # fix data type\n",
    "df = df.drop_duplicates(subset=[\"App\"]).reset_index(drop=True)"
   ]
  },
  {
   "cell_type": "code",
   "execution_count": 23,
   "metadata": {},
   "outputs": [
    {
     "data": {
      "text/html": [
       "<div>\n",
       "<style scoped>\n",
       "    .dataframe tbody tr th:only-of-type {\n",
       "        vertical-align: middle;\n",
       "    }\n",
       "\n",
       "    .dataframe tbody tr th {\n",
       "        vertical-align: top;\n",
       "    }\n",
       "\n",
       "    .dataframe thead th {\n",
       "        text-align: right;\n",
       "    }\n",
       "</style>\n",
       "<table border=\"1\" class=\"dataframe\">\n",
       "  <thead>\n",
       "    <tr style=\"text-align: right;\">\n",
       "      <th></th>\n",
       "      <th>App</th>\n",
       "      <th>Package</th>\n",
       "      <th>Category</th>\n",
       "      <th>Description</th>\n",
       "      <th>Rating</th>\n",
       "      <th>Number of ratings</th>\n",
       "      <th>Price</th>\n",
       "      <th>Related apps</th>\n",
       "      <th>Dangerous permissions count</th>\n",
       "      <th>Safe permissions count</th>\n",
       "      <th>...</th>\n",
       "      <th>Your personal information : read Browser's history and bookmarks (D)</th>\n",
       "      <th>Your personal information : read calendar events (D)</th>\n",
       "      <th>Your personal information : read contact data (D)</th>\n",
       "      <th>Your personal information : read sensitive log data (D)</th>\n",
       "      <th>Your personal information : read user defined dictionary (D)</th>\n",
       "      <th>Your personal information : retrieve system internal state (S)</th>\n",
       "      <th>Your personal information : set alarm in alarm clock (S)</th>\n",
       "      <th>Your personal information : write Browser's history and bookmarks (D)</th>\n",
       "      <th>Your personal information : write contact data (D)</th>\n",
       "      <th>Your personal information : write to user defined dictionary (S)</th>\n",
       "    </tr>\n",
       "  </thead>\n",
       "  <tbody>\n",
       "    <tr>\n",
       "      <th>0</th>\n",
       "      <td>Google Maps</td>\n",
       "      <td>com.google.android.apps.maps</td>\n",
       "      <td>Travel &amp; Local</td>\n",
       "      <td>Download the latest release of Google Maps, an...</td>\n",
       "      <td>4.4</td>\n",
       "      <td>1438259</td>\n",
       "      <td>$0.00</td>\n",
       "      <td>{com.jsdfproductions.ctatrackerpro, com.alk.co...</td>\n",
       "      <td>17.0</td>\n",
       "      <td>8</td>\n",
       "      <td>...</td>\n",
       "      <td>0</td>\n",
       "      <td>0</td>\n",
       "      <td>1</td>\n",
       "      <td>0</td>\n",
       "      <td>0</td>\n",
       "      <td>0</td>\n",
       "      <td>0</td>\n",
       "      <td>0</td>\n",
       "      <td>1</td>\n",
       "      <td>0</td>\n",
       "    </tr>\n",
       "    <tr>\n",
       "      <th>1</th>\n",
       "      <td>Snowfall Live Wallpaper</td>\n",
       "      <td>fishnoodle.snowfall_free</td>\n",
       "      <td>Personalization</td>\n",
       "      <td>Snowfall Live Wallpaper: Wintertime on your ho...</td>\n",
       "      <td>4.3</td>\n",
       "      <td>18147</td>\n",
       "      <td>$0.00</td>\n",
       "      <td>{colfore.wallpaper.snowfree, com.tabsoft.wallp...</td>\n",
       "      <td>0.0</td>\n",
       "      <td>0</td>\n",
       "      <td>...</td>\n",
       "      <td>0</td>\n",
       "      <td>0</td>\n",
       "      <td>0</td>\n",
       "      <td>0</td>\n",
       "      <td>0</td>\n",
       "      <td>0</td>\n",
       "      <td>0</td>\n",
       "      <td>0</td>\n",
       "      <td>0</td>\n",
       "      <td>0</td>\n",
       "    </tr>\n",
       "    <tr>\n",
       "      <th>2</th>\n",
       "      <td>Aquarium Live Wallpaper</td>\n",
       "      <td>fishnoodle.aquarium_free</td>\n",
       "      <td>Personalization</td>\n",
       "      <td>A beautiful tropical fish tank live wallpaper!...</td>\n",
       "      <td>4.1</td>\n",
       "      <td>62145</td>\n",
       "      <td>$0.00</td>\n",
       "      <td>{com.convisual.lwp.fishometerlite, com.accessl...</td>\n",
       "      <td>0.0</td>\n",
       "      <td>0</td>\n",
       "      <td>...</td>\n",
       "      <td>0</td>\n",
       "      <td>0</td>\n",
       "      <td>0</td>\n",
       "      <td>0</td>\n",
       "      <td>0</td>\n",
       "      <td>0</td>\n",
       "      <td>0</td>\n",
       "      <td>0</td>\n",
       "      <td>0</td>\n",
       "      <td>0</td>\n",
       "    </tr>\n",
       "  </tbody>\n",
       "</table>\n",
       "<p>3 rows × 183 columns</p>\n",
       "</div>"
      ],
      "text/plain": [
       "                       App                       Package         Category  \\\n",
       "0              Google Maps  com.google.android.apps.maps   Travel & Local   \n",
       "1  Snowfall Live Wallpaper      fishnoodle.snowfall_free  Personalization   \n",
       "2  Aquarium Live Wallpaper      fishnoodle.aquarium_free  Personalization   \n",
       "\n",
       "                                         Description  Rating  \\\n",
       "0  Download the latest release of Google Maps, an...     4.4   \n",
       "1  Snowfall Live Wallpaper: Wintertime on your ho...     4.3   \n",
       "2  A beautiful tropical fish tank live wallpaper!...     4.1   \n",
       "\n",
       "   Number of ratings  Price  \\\n",
       "0            1438259  $0.00   \n",
       "1              18147  $0.00   \n",
       "2              62145  $0.00   \n",
       "\n",
       "                                        Related apps  \\\n",
       "0  {com.jsdfproductions.ctatrackerpro, com.alk.co...   \n",
       "1  {colfore.wallpaper.snowfree, com.tabsoft.wallp...   \n",
       "2  {com.convisual.lwp.fishometerlite, com.accessl...   \n",
       "\n",
       "   Dangerous permissions count  Safe permissions count  ...  \\\n",
       "0                         17.0                       8  ...   \n",
       "1                          0.0                       0  ...   \n",
       "2                          0.0                       0  ...   \n",
       "\n",
       "   Your personal information : read Browser's history and bookmarks (D)  \\\n",
       "0                                                  0                      \n",
       "1                                                  0                      \n",
       "2                                                  0                      \n",
       "\n",
       "   Your personal information : read calendar events (D)  \\\n",
       "0                                                  0      \n",
       "1                                                  0      \n",
       "2                                                  0      \n",
       "\n",
       "   Your personal information : read contact data (D)  \\\n",
       "0                                                  1   \n",
       "1                                                  0   \n",
       "2                                                  0   \n",
       "\n",
       "   Your personal information : read sensitive log data (D)  \\\n",
       "0                                                  0         \n",
       "1                                                  0         \n",
       "2                                                  0         \n",
       "\n",
       "   Your personal information : read user defined dictionary (D)  \\\n",
       "0                                                  0              \n",
       "1                                                  0              \n",
       "2                                                  0              \n",
       "\n",
       "   Your personal information : retrieve system internal state (S)  \\\n",
       "0                                                  0                \n",
       "1                                                  0                \n",
       "2                                                  0                \n",
       "\n",
       "   Your personal information : set alarm in alarm clock (S)  \\\n",
       "0                                                  0          \n",
       "1                                                  0          \n",
       "2                                                  0          \n",
       "\n",
       "   Your personal information : write Browser's history and bookmarks (D)  \\\n",
       "0                                                  0                       \n",
       "1                                                  0                       \n",
       "2                                                  0                       \n",
       "\n",
       "   Your personal information : write contact data (D)  \\\n",
       "0                                                  1    \n",
       "1                                                  0    \n",
       "2                                                  0    \n",
       "\n",
       "   Your personal information : write to user defined dictionary (S)  \n",
       "0                                                  0                 \n",
       "1                                                  0                 \n",
       "2                                                  0                 \n",
       "\n",
       "[3 rows x 183 columns]"
      ]
     },
     "execution_count": 23,
     "metadata": {},
     "output_type": "execute_result"
    }
   ],
   "source": [
    "df.head(n=3)"
   ]
  },
  {
   "cell_type": "markdown",
   "metadata": {},
   "source": [
    "### Part B: Convert each app into a \"document\" [0 points]\n",
    "\n",
    "The code below does the following:\n",
    "\n",
    "   * Filter out all the columns except the permission columns.\n",
    "   * Convert this dataframe into a numpy matrix.\n",
    "\n",
    "There are thus 180295 apps (documents) and 173 permissions (words).\n",
    "\n",
    "   - `X` is the \"document\" or \"word-frequency\" matrix.\n",
    "   - `permission_columns` contains the words ordered by their column index in X.\n",
    "   - `app_names` contains the application names ordered by their row index in X.\n",
    "   - `app_ratings` contains the *number* of application ratings (not the ratings themselves)."
   ]
  },
  {
   "cell_type": "code",
   "execution_count": 24,
   "metadata": {},
   "outputs": [],
   "source": [
    "permission_columns = list(df.columns[10:])\n",
    "app_names = list(df[\"App\"])\n",
    "app_ratings = np.array(df[\"Number of ratings\"])\n",
    "df_perms = df[permission_columns]\n",
    "X = df_perms.values\n",
    "#del df # uncomment to free up RAM\n",
    "#del df_perms # uncomment to free up RAM"
   ]
  },
  {
   "cell_type": "markdown",
   "metadata": {},
   "source": [
    "### Part C: Downweight \"stopwords\" [2.5 points]\n",
    "\n",
    "There are some permissions requested by almost all applications (like \"INTERNET\"), they are similar to stop-words (\"the\", \"and\", etc.) in natural language. We can downweight them by TF-IDF normalization.\n",
    "\n",
    "   * Use the `TfidfTransformer` class in `scikit-learn` to transform X."
   ]
  },
  {
   "cell_type": "code",
   "execution_count": 25,
   "metadata": {},
   "outputs": [],
   "source": [
    "########################################################################\n",
    "######################### Write your code here #########################\n",
    "########################################################################\n",
    "from sklearn.feature_extraction.text import TfidfTransformer\n",
    "\n",
    "transformer_app = TfidfTransformer()\n",
    "X = transformer_app.fit_transform(X)\n"
   ]
  },
  {
   "cell_type": "markdown",
   "metadata": {},
   "source": [
    "### Part D: Discover 10 \"topics\" [2.5 points]\n",
    "\n",
    "   * Use the `LatentDirichletAllocation` class in `scikit-learn` to fit 10 topics to the data.\n",
    "   * Use 10 max iterations, set `n_jobs=-1` to use all cores on your machine (if it helps).\n",
    "   * Feel free to understand and play around with other parameters.\n",
    "   * This may take around 3 minutes to run."
   ]
  },
  {
   "cell_type": "code",
   "execution_count": 26,
   "metadata": {},
   "outputs": [
    {
     "name": "stdout",
     "output_type": "stream",
     "text": [
      "Wall time: 1min 14s\n"
     ]
    },
    {
     "data": {
      "text/html": [
       "<style>#sk-container-id-2 {color: black;background-color: white;}#sk-container-id-2 pre{padding: 0;}#sk-container-id-2 div.sk-toggleable {background-color: white;}#sk-container-id-2 label.sk-toggleable__label {cursor: pointer;display: block;width: 100%;margin-bottom: 0;padding: 0.3em;box-sizing: border-box;text-align: center;}#sk-container-id-2 label.sk-toggleable__label-arrow:before {content: \"▸\";float: left;margin-right: 0.25em;color: #696969;}#sk-container-id-2 label.sk-toggleable__label-arrow:hover:before {color: black;}#sk-container-id-2 div.sk-estimator:hover label.sk-toggleable__label-arrow:before {color: black;}#sk-container-id-2 div.sk-toggleable__content {max-height: 0;max-width: 0;overflow: hidden;text-align: left;background-color: #f0f8ff;}#sk-container-id-2 div.sk-toggleable__content pre {margin: 0.2em;color: black;border-radius: 0.25em;background-color: #f0f8ff;}#sk-container-id-2 input.sk-toggleable__control:checked~div.sk-toggleable__content {max-height: 200px;max-width: 100%;overflow: auto;}#sk-container-id-2 input.sk-toggleable__control:checked~label.sk-toggleable__label-arrow:before {content: \"▾\";}#sk-container-id-2 div.sk-estimator input.sk-toggleable__control:checked~label.sk-toggleable__label {background-color: #d4ebff;}#sk-container-id-2 div.sk-label input.sk-toggleable__control:checked~label.sk-toggleable__label {background-color: #d4ebff;}#sk-container-id-2 input.sk-hidden--visually {border: 0;clip: rect(1px 1px 1px 1px);clip: rect(1px, 1px, 1px, 1px);height: 1px;margin: -1px;overflow: hidden;padding: 0;position: absolute;width: 1px;}#sk-container-id-2 div.sk-estimator {font-family: monospace;background-color: #f0f8ff;border: 1px dotted black;border-radius: 0.25em;box-sizing: border-box;margin-bottom: 0.5em;}#sk-container-id-2 div.sk-estimator:hover {background-color: #d4ebff;}#sk-container-id-2 div.sk-parallel-item::after {content: \"\";width: 100%;border-bottom: 1px solid gray;flex-grow: 1;}#sk-container-id-2 div.sk-label:hover label.sk-toggleable__label {background-color: #d4ebff;}#sk-container-id-2 div.sk-serial::before {content: \"\";position: absolute;border-left: 1px solid gray;box-sizing: border-box;top: 0;bottom: 0;left: 50%;z-index: 0;}#sk-container-id-2 div.sk-serial {display: flex;flex-direction: column;align-items: center;background-color: white;padding-right: 0.2em;padding-left: 0.2em;position: relative;}#sk-container-id-2 div.sk-item {position: relative;z-index: 1;}#sk-container-id-2 div.sk-parallel {display: flex;align-items: stretch;justify-content: center;background-color: white;position: relative;}#sk-container-id-2 div.sk-item::before, #sk-container-id-2 div.sk-parallel-item::before {content: \"\";position: absolute;border-left: 1px solid gray;box-sizing: border-box;top: 0;bottom: 0;left: 50%;z-index: -1;}#sk-container-id-2 div.sk-parallel-item {display: flex;flex-direction: column;z-index: 1;position: relative;background-color: white;}#sk-container-id-2 div.sk-parallel-item:first-child::after {align-self: flex-end;width: 50%;}#sk-container-id-2 div.sk-parallel-item:last-child::after {align-self: flex-start;width: 50%;}#sk-container-id-2 div.sk-parallel-item:only-child::after {width: 0;}#sk-container-id-2 div.sk-dashed-wrapped {border: 1px dashed gray;margin: 0 0.4em 0.5em 0.4em;box-sizing: border-box;padding-bottom: 0.4em;background-color: white;}#sk-container-id-2 div.sk-label label {font-family: monospace;font-weight: bold;display: inline-block;line-height: 1.2em;}#sk-container-id-2 div.sk-label-container {text-align: center;}#sk-container-id-2 div.sk-container {/* jupyter's `normalize.less` sets `[hidden] { display: none; }` but bootstrap.min.css set `[hidden] { display: none !important; }` so we also need the `!important` here to be able to override the default hidden behavior on the sphinx rendered scikit-learn.org. See: https://github.com/scikit-learn/scikit-learn/issues/21755 */display: inline-block !important;position: relative;}#sk-container-id-2 div.sk-text-repr-fallback {display: none;}</style><div id=\"sk-container-id-2\" class=\"sk-top-container\"><div class=\"sk-text-repr-fallback\"><pre>LatentDirichletAllocation(n_jobs=-1, random_state=0)</pre><b>In a Jupyter environment, please rerun this cell to show the HTML representation or trust the notebook. <br />On GitHub, the HTML representation is unable to render, please try loading this page with nbviewer.org.</b></div><div class=\"sk-container\" hidden><div class=\"sk-item\"><div class=\"sk-estimator sk-toggleable\"><input class=\"sk-toggleable__control sk-hidden--visually\" id=\"sk-estimator-id-2\" type=\"checkbox\" checked><label for=\"sk-estimator-id-2\" class=\"sk-toggleable__label sk-toggleable__label-arrow\">LatentDirichletAllocation</label><div class=\"sk-toggleable__content\"><pre>LatentDirichletAllocation(n_jobs=-1, random_state=0)</pre></div></div></div></div></div>"
      ],
      "text/plain": [
       "LatentDirichletAllocation(n_jobs=-1, random_state=0)"
      ]
     },
     "execution_count": 26,
     "metadata": {},
     "output_type": "execute_result"
    }
   ],
   "source": [
    "%%time\n",
    "########################################################################\n",
    "######################### Write your code here #########################\n",
    "########################################################################\n",
    "from sklearn.decomposition import LatentDirichletAllocation\n",
    "num_topics = 10\n",
    "\n",
    "lda = LatentDirichletAllocation(n_components=num_topics, max_iter =10, n_jobs=-1, random_state=0)\n",
    "lda.fit(X)\n"
   ]
  },
  {
   "cell_type": "markdown",
   "metadata": {},
   "source": [
    "Now each app can be viewed as a distribution over these 10 topics, and each topic is a distribution over all the permissions in the data."
   ]
  },
  {
   "cell_type": "markdown",
   "metadata": {},
   "source": [
    "### Part E: List the top 10 \"words\" in each topic [15 points]\n",
    "\n",
    "Do any of the topics correspond to meaningful app \"purposes\"? List the ones you find meaningful below:\n",
    "  "
   ]
  },
  {
   "cell_type": "code",
   "execution_count": 29,
   "metadata": {},
   "outputs": [
    {
     "name": "stdout",
     "output_type": "stream",
     "text": [
      "[Topic 0]\n",
      "Your location : coarse (network-based) location (D) : 0.255334981898809\n",
      "Your location : fine (GPS) location (D) : 0.24579947092592744\n",
      "Network communication : full Internet access (D) : 0.15369908539947516\n",
      "Network communication : view network state (S) : 0.1024427669284403\n",
      "Phone calls : read phone state and identity (D) : 0.0824894583294347\n",
      "Storage : modify/delete USB storage contents modify/delete SD card contents (D) : 0.0656106296956535\n",
      "Services that cost you money : directly call phone numbers (D) : 0.05300317397110292\n",
      "Network communication : view Wi-Fi state (S) : 0.026017328104751134\n",
      "Your personal information : read sensitive log data (D) : 0.014709118782127098\n",
      "Hardware controls : control vibrator (S) : 0.00022023272559928048\n",
      "\n",
      "[Topic 1]\n",
      "Hardware controls : control vibrator (S) : 0.5152112147764315\n",
      "Network communication : full Internet access (D) : 0.15154252184472775\n",
      "Network communication : view network state (S) : 0.10055381830165719\n",
      "Phone calls : read phone state and identity (D) : 0.053000425618745045\n",
      "System tools : change Wi-Fi state (D) : 0.03507512727942915\n",
      "Network communication : view Wi-Fi state (S) : 0.025718008023215874\n",
      "Hardware controls : change your audio settings (D) : 0.024968353355147806\n",
      "Default : modify battery statistics (S) : 0.022211669816127363\n",
      "Default : change screen orientation (S) : 0.019102606899577698\n",
      "System tools : allow Wi-Fi Multicast reception (D) : 0.013045141626062769\n",
      "\n",
      "[Topic 2]\n",
      "Network communication : full Internet access (D) : 0.7023112715829987\n",
      "Network communication : view network state (S) : 0.29712259464025637\n",
      "Your accounts : Google Finance (D) : 5.918798192924024e-05\n",
      "Your accounts : Picasa Web Albums (D) : 2.7019372052774473e-05\n",
      "Your accounts : Blogger (D) : 1.647878055829269e-05\n",
      "Your accounts : view configured accounts (S) : 2.758621816520687e-06\n",
      "Your personal information : read contact data (D) : 2.7586215040479758e-06\n",
      "Your accounts : discover known accounts (S) : 2.7586209256152485e-06\n",
      "System tools : modify global system settings (D) : 2.758619828036358e-06\n",
      "Your accounts : use the authentication credentials of an account (D) : 2.758617783544385e-06\n",
      "\n",
      "[Topic 3]\n",
      "Your accounts : discover known accounts (S) : 0.0391123291021475\n",
      "Your accounts : use the authentication credentials of an account (D) : 0.03489010384247948\n",
      "System tools : prevent device from sleeping (D) : 0.033520639806483676\n",
      "Your personal information : read sensitive log data (D) : 0.033053599018452506\n",
      "Storage : modify/delete USB storage contents modify/delete SD card contents (D) : 0.031846878149942914\n",
      "Network communication : view Wi-Fi state (S) : 0.03071558021306833\n",
      "Network communication : view network state (S) : 0.028842789573311458\n",
      "Hardware controls : control vibrator (S) : 0.028644811302003047\n",
      "Phone calls : read phone state and identity (D) : 0.028570133744179844\n",
      "Network communication : full Internet access (D) : 0.02775766787859757\n",
      "\n",
      "[Topic 4]\n",
      "System tools : prevent device from sleeping (D) : 0.3356567480751495\n",
      "Network communication : full Internet access (D) : 0.10601548386246581\n",
      "System tools : automatically start at boot (S) : 0.1041948017577849\n",
      "Storage : modify/delete USB storage contents modify/delete SD card contents (D) : 0.09852124681043833\n",
      "Network communication : view network state (S) : 0.09473284555423957\n",
      "Phone calls : read phone state and identity (D) : 0.07946912618065083\n",
      "Hardware controls : control vibrator (S) : 0.07655912132240089\n",
      "System tools : disable keylock (D) : 0.038995086597715965\n",
      "System tools : set wallpaper size hints (S) : 0.019126500829955984\n",
      "System tools : set wallpaper (S) : 0.016866195376529003\n",
      "\n",
      "[Topic 5]\n",
      "Storage : modify/delete USB storage contents modify/delete SD card contents (D) : 0.3839273763560388\n",
      "System tools : set wallpaper (S) : 0.18951584494894358\n",
      "Network communication : full Internet access (D) : 0.18820346227280074\n",
      "Network communication : view network state (S) : 0.14522113450653867\n",
      "Phone calls : read phone state and identity (D) : 0.07109535507820673\n",
      "System tools : mount and unmount filesystems (D) : 0.009921476731251957\n",
      "Network communication : view Wi-Fi state (S) : 0.008716195599026711\n",
      "Default : bind to a wallpaper (S) : 0.002728143275866541\n",
      "Default : discover known accounts (S) : 3.727575732653445e-05\n",
      "Default : write instant messages (S) : 2.083555187453374e-05\n",
      "\n",
      "[Topic 6]\n",
      "Hardware controls : take pictures and videos (D) : 0.16024099868534117\n",
      "Hardware controls : record audio (D) : 0.0765620491588423\n",
      "Storage : modify/delete USB storage contents modify/delete SD card contents (D) : 0.07640972025463147\n",
      "Your location : fine (GPS) location (D) : 0.06785948347907246\n",
      "Network communication : full Internet access (D) : 0.060269018580215016\n",
      "Your location : coarse (network-based) location (D) : 0.05976627929768226\n",
      "Network communication : view network state (S) : 0.0529616196208603\n",
      "Hardware controls : control vibrator (S) : 0.05009445012474325\n",
      "Your location : access extra location provider commands (S) : 0.04868607106594384\n",
      "Phone calls : read phone state and identity (D) : 0.04445762163572796\n",
      "\n",
      "[Topic 7]\n",
      "Phone calls : read phone state and identity (D) : 0.2299514779906681\n",
      "Network communication : view Wi-Fi state (S) : 0.20059254742966648\n",
      "Network communication : view network state (S) : 0.15570634129666477\n",
      "Network communication : full Internet access (D) : 0.1553058989287548\n",
      "Storage : modify/delete USB storage contents modify/delete SD card contents (D) : 0.07600461744408518\n",
      "System tools : change your UI settings (D) : 0.037989083005730666\n",
      "Network communication : create Bluetooth connections (D) : 0.03623238654052851\n",
      "System tools : bluetooth administration (D) : 0.030363673825081417\n",
      "System tools : change network connectivity (D) : 0.027553881063200905\n",
      "System tools : change Wi-Fi state (D) : 0.024817417714468472\n",
      "\n",
      "[Topic 8]\n",
      "System tools : retrieve running applications (D) : 0.11596449899157897\n",
      "Phone calls : read phone state and identity (D) : 0.08746375862870022\n",
      "Network communication : receive data from Internet (S) : 0.08461804719807635\n",
      "Network communication : view network state (S) : 0.08437249197805377\n",
      "Network communication : full Internet access (D) : 0.08325848187043594\n",
      "Services that cost you money : directly call phone numbers (D) : 0.08170831060133714\n",
      "Storage : modify/delete USB storage contents modify/delete SD card contents (D) : 0.0674284726031827\n",
      "System tools : prevent device from sleeping (D) : 0.051755395660263624\n",
      "Hardware controls : control vibrator (S) : 0.05025876746046644\n",
      "Your location : fine (GPS) location (D) : 0.04798659481115395\n",
      "\n",
      "[Topic 9]\n",
      "Your personal information : read contact data (D) : 0.12992737182373096\n",
      "Services that cost you money : send SMS messages (D) : 0.08475878188420356\n",
      "Your accounts : discover known accounts (S) : 0.06504220201882713\n",
      "System tools : modify global system settings (D) : 0.05312503887136054\n",
      "Phone calls : read phone state and identity (D) : 0.051569526167636624\n",
      "Your messages : receive SMS (D) : 0.04889910724062355\n",
      "Network communication : full Internet access (D) : 0.04611748511131465\n",
      "Your personal information : write contact data (D) : 0.042970997509778536\n",
      "Network communication : view network state (S) : 0.03863102642777997\n",
      "Your messages : read SMS or MMS (D) : 0.03773938971470297\n",
      "\n"
     ]
    }
   ],
   "source": [
    "########################################################################\n",
    "######################### Write your code here #########################\n",
    "########################################################################\n",
    "topic_word_distributions = np.array([row / row.sum() for row in lda.components_])\n",
    "\n",
    "for topic_idx in range(num_topics):\n",
    "    print('[Topic ', topic_idx, ']', sep='')\n",
    "    sort_indices = np.argsort(-topic_word_distributions[topic_idx])\n",
    "    for rank in range(10):\n",
    "        word_idx = sort_indices[rank]\n",
    "        print(permission_columns[word_idx], ':', topic_word_distributions[topic_idx, word_idx])\n",
    "    print()"
   ]
  },
  {
   "cell_type": "markdown",
   "metadata": {},
   "source": [
    "   * Topic 3: This topic might be related to apps checking identification and security.\n",
    "   \n",
    "   Its top permissions are 1. discover known accounts, 2. use the authentication credentials of an account, 3. prevent device from sleeping, 4. read sensitive log data, 5. modify/delete USB storage contents modify/delete SD card contents. These app purposes are to check account information, get sensitive data and make credentials verification. \n",
    "   \n",
    "  \n",
    "  \n",
    "  * Topic 6: This topic might be related to social apps that allow users to interact with contacts. \n",
    "   \n",
    "   Its top permissions are 1. take pictures and videos, 2. record audio, 3. modify/delete USB storage contents modify/delete SD card contents, 4. fine location, 5. Internet access. For example, Wechat / Instagram allow users to take photos or create videos with audio and send them to their contacts. And users can save these files received from others into their phones. Also, users can share their real time position with friends and locate users nearby.\n",
    "   \n",
    "   \n",
    "  * Topic 9: This topic might be related to instant message sending app features.\n",
    "  \n",
    "  Its top permissions are 1. read contact data, 2. send SMS messages, 3. discover known accounts, 4. modify global system settings, 5. read phone state and identity. These apps need functions to send and receive SMS, and also should have access to contact information.  \n",
    "   \n",
    "   "
   ]
  },
  {
   "cell_type": "markdown",
   "metadata": {},
   "source": [
    "### Part F: For each topic, list the top 3 apps with at least 100000 ratings having the highest probability assigned to that topic [15 points]\n",
    "\n",
    "   - This further helps us understand what the topics actually mean.\n",
    "   - However, the data is noisy and this exercise may result in listing a bunch of obscure apps.\n",
    "   - Hence, filtering out all apps with less than 100000 ratings may help."
   ]
  },
  {
   "cell_type": "code",
   "execution_count": 28,
   "metadata": {},
   "outputs": [
    {
     "name": "stdout",
     "output_type": "stream",
     "text": [
      "[Topic 0]\n",
      "1 . Dictionary.com : 0.7169202126395239\n",
      "2 . Air Control Lite : 0.7169202126395239\n",
      "3 . Paper Toss : 0.6935370713374321\n",
      "\n",
      "[Topic 1]\n",
      "1 . Bubble Blast 2 : 0.6932429431507394\n",
      "2 . Drag Racing : 0.6932429431507394\n",
      "3 . Mouse Trap : 0.6932429431507394\n",
      "\n",
      "[Topic 2]\n",
      "1 . Angry Birds Seasons : 0.6247322716989121\n",
      "2 . Yoo Ninja! Free : 0.6247322716989121\n",
      "3 . Adobe Reader : 0.5499685248904161\n",
      "\n",
      "[Topic 3]\n",
      "1 . Lookout Security & Antivirus : 0.8569331400016756\n",
      "2 . Antivirus Free : 0.8544647080761317\n",
      "3 . Skype : 0.848909654070122\n",
      "\n",
      "[Topic 4]\n",
      "1 . Real BlackJack : 0.7163516110332171\n",
      "2 . Alchemy : 0.7154549420796851\n",
      "3 . Tank Hero : 0.7153276104408395\n",
      "\n",
      "[Topic 5]\n",
      "1 . World Newspapers : 0.696199359923326\n",
      "2 . My Country : 0.696199359923326\n",
      "3 . Paradise Island : 0.696199359923326\n",
      "\n",
      "[Topic 6]\n",
      "1 . Brightest Flashlight Free™ : 0.7624637869589526\n",
      "2 . Brightest Flashlight Free??? : 0.7624637869589526\n",
      "3 . Tiny Flashlight + LED : 0.7496709408477027\n",
      "\n",
      "[Topic 7]\n",
      "1 . Slice It! : 0.7208886345801729\n",
      "2 . Racing Moto : 0.6877864439547439\n",
      "3 . Blast Monkeys : 0.6657649258359014\n",
      "\n",
      "[Topic 8]\n",
      "1 . TuneIn Radio : 0.7434480865307728\n",
      "2 . Restaurant Story™ : 0.7273310870900432\n",
      "3 . Restaurant Story??? : 0.7273310870900432\n",
      "\n",
      "[Topic 9]\n",
      "1 . Ringdroid : 0.707308461920479\n",
      "2 . Google Sky Map : 0.7062926829669635\n",
      "3 . chompSMS : 0.5747916795430899\n",
      "\n"
     ]
    }
   ],
   "source": [
    "########################################################################\n",
    "######################### Write your code here #########################\n",
    "########################################################################\n",
    "filtered_app = X[app_ratings>=100000]\n",
    "filtered_app_name = np.array(app_names)[app_ratings>=100000]\n",
    "doc_topic_matrix = lda.transform(filtered_app)\n",
    "\n",
    "for topic in range(10):\n",
    "    print('[Topic ', topic, ']', sep='')\n",
    "    sorted_app_ind = np.argsort(-doc_topic_matrix[:,topic])[:3]\n",
    "    for rank,ind in enumerate(sorted_app_ind):\n",
    "        print(rank+1,\".\",filtered_app_name[ind],\":\",doc_topic_matrix[ind,topic])\n",
    "    print()\n",
    "\n"
   ]
  },
  {
   "cell_type": "markdown",
   "metadata": {},
   "source": [
    "### Part G: Visualize the document-topic proportion matrix in 2-D using t-SNE [10 points]\n",
    "\n",
    "Does our reduced dimensional space contain any structure? Visualize the documents (in the topic-space) using t-SNE.\n",
    "\n",
    "   * Use `TSNE` from `scikit-learn`.\n",
    "   * Set the angle to 0.99 and init to 'PCA'. Pick any learning rate that gives you a visually pleasing result.\n",
    "   * You may `fit` TSNE to a sample of the data (>1000 documents) instead of the full data.\n",
    "   * Remember to call `fit_transform` to obtain your 2-D data.\n",
    "   * Plot the t-SNE dimensions as a scatterplot.\n",
    "   * Color each point based on its most probable topic. Make sure you include a legend (10 colors).\n",
    "   \n",
    "Clusters in the t-SNE plot indicate groups of apps that have similar topics."
   ]
  },
  {
   "cell_type": "code",
   "execution_count": 16,
   "metadata": {},
   "outputs": [
    {
     "name": "stdout",
     "output_type": "stream",
     "text": [
      "[t-SNE] Computing 91 nearest neighbors...\n",
      "[t-SNE] Indexed 1001 samples in 0.008s...\n",
      "[t-SNE] Computed neighbors for 1001 samples in 0.064s...\n",
      "[t-SNE] Computed conditional probabilities for sample 1000 / 1001\n",
      "[t-SNE] Computed conditional probabilities for sample 1001 / 1001\n",
      "[t-SNE] Mean sigma: 0.000000\n"
     ]
    },
    {
     "name": "stderr",
     "output_type": "stream",
     "text": [
      "D:\\anaconda3\\lib\\site-packages\\sklearn\\manifold\\_t_sne.py:991: FutureWarning: The PCA initialization in TSNE will change to have the standard deviation of PC1 equal to 1e-4 in 1.2. This will ensure better convergence.\n",
      "  warnings.warn(\n"
     ]
    },
    {
     "name": "stdout",
     "output_type": "stream",
     "text": [
      "[t-SNE] KL divergence after 250 iterations with early exaggeration: 41.160000\n",
      "[t-SNE] KL divergence after 1000 iterations: -1.086503\n"
     ]
    },
    {
     "data": {
      "image/png": "[encoded data removed]",
      "text/plain": [
       "<Figure size 640x480 with 1 Axes>"
      ]
     },
     "metadata": {},
     "output_type": "display_data"
    },
    {
     "name": "stdout",
     "output_type": "stream",
     "text": [
      "Wall time: 8.94 s\n"
     ]
    }
   ],
   "source": [
    "%%time\n",
    "########################################################################\n",
    "######################### Write your code here #########################\n",
    "########################################################################\n",
    "from sklearn.manifold import TSNE\n",
    "doc_topic_proportion_matrix = lda.transform(X)\n",
    "\n",
    "num_samples = X.shape[0]\n",
    "random_sample = np.random.permutation(num_samples)[:1001]\n",
    "\n",
    "tsne = TSNE(n_components=2, angle = 0.99, init = 'pca', verbose=1,learning_rate =200, random_state=0)\n",
    "feature_vectors_tsne2d = tsne.fit_transform(doc_topic_proportion_matrix[random_sample])\n",
    "topic_labels = np.argmax(doc_topic_proportion_matrix[random_sample],axis=1)\n",
    "\n",
    "for label in set(topic_labels):\n",
    "    plt.scatter(feature_vectors_tsne2d[:, 0][topic_labels==label], feature_vectors_tsne2d[:, 1][topic_labels==label],\n",
    "            label=('Topic ' + str(label)))\n",
    "plt.legend()\n",
    "plt.xlabel('Dimension 1')\n",
    "plt.ylabel('Dimension 2')\n",
    "plt.show()\n",
    "    "
   ]
  },
  {
   "cell_type": "markdown",
   "metadata": {},
   "source": [
    "## Question 3: Questionnaire [5 points]\n",
    "\n",
    "Please answer this survey after you have done this homework: https://forms.gle/vXbmEehDByuxtgCG9"
   ]
  }
 ],
 "metadata": {
  "kernelspec": {
   "display_name": "Python 3 (ipykernel)",
   "language": "python",
   "name": "python3"
  },
  "language_info": {
   "codemirror_mode": {
    "name": "ipython",
    "version": 3
   },
   "file_extension": ".py",
   "mimetype": "text/x-python",
   "name": "python",
   "nbconvert_exporter": "python",
   "pygments_lexer": "ipython3",
   "version": "3.9.12"
  }
 },
 "nbformat": 4,
 "nbformat_minor": 2
}

{
 "cells": [
  {
   "cell_type": "markdown",
   "metadata": {
    "id": "0k6NbwxsBCxC"
   },
   "source": [
    "# Homework 3"
   ]
  },
  {
   "cell_type": "code",
   "execution_count": 1,
   "metadata": {
    "colab": {
     "base_uri": "https://localhost:8080/"
    },
    "id": "Vhj_Bfj6tWM6",
    "outputId": "34226f12-6efe-4f19-8c6b-966c7d9fc0aa"
   },
   "outputs": [
    {
     "name": "stdout",
     "output_type": "stream",
     "text": [
      "Mounted at /content/drive\n"
     ]
    }
   ],
   "source": [
    "from google.colab import drive\n",
    "drive.mount('/content/drive')"
   ]
  },
  {
   "cell_type": "markdown",
   "metadata": {
    "id": "gAcYDLxCBCxF"
   },
   "source": [
    "# Part 1: Email spam classification [25 points]"
   ]
  },
  {
   "cell_type": "markdown",
   "metadata": {
    "id": "JOGBSouRBCxG"
   },
   "source": [
    "   - Get the data from: http://www.andrew.cmu.edu/user/georgech/preprocessed-enron-email-dataset.zip\n",
    "   - Unzip this into the same folder as this notebook, rename it to `email-data`\n",
    "   - The folder contains 3 subfolders:\n",
    "      - `ham` contains ham emails.\n",
    "      - `spam` contains spam emails.\n",
    "      - `testing` is a folder containing test emails for your classifier. The ham/spam label is in the filename.\n",
    "      \n",
    "**Important**: For this problem, do *not* use neural nets/deep nets."
   ]
  },
  {
   "cell_type": "markdown",
   "metadata": {
    "id": "1Q-yA246BCxG"
   },
   "source": [
    "**(a) Print the number of ham and spam emails [1 point]**\n",
    "\n",
    "In addition to providing the code, respond to the following questions:\n",
    "\n",
    "   - Is this dataset imbalanced? Will this be problematic in training the model?\n",
    "   - If so, how would you address it? (You do *not* have to implement what you suggest here for later parts of the problem.)"
   ]
  },
  {
   "cell_type": "code",
   "execution_count": null,
   "metadata": {
    "id": "zdJOBg9xBCxG",
    "outputId": "d9623e09-3253-453a-fae3-4ada306ea4fa"
   },
   "outputs": [
    {
     "name": "stdout",
     "output_type": "stream",
     "text": [
      "Number of ham emails: 1500\n",
      "Number of spam emails: 3671\n"
     ]
    }
   ],
   "source": [
    "#your code here\n",
    "import glob\n",
    "print('Number of ham emails:',len(glob.glob('./email-data/ham/*.txt')))\n",
    "print('Number of spam emails:',len(glob.glob('./email-data/spam/*.txt')))"
   ]
  },
  {
   "cell_type": "markdown",
   "metadata": {
    "id": "Ytr156hMBCxI"
   },
   "source": [
    "**Your answers to the above questions:**\n",
    "\n",
    "The dataset is imbalanced. This will be problematic in training the model since the model has not enough data of ham emails to learn from and may tend to predict emails to spam incorrectly.\n",
    "\n",
    "I would address it by collecting more data points of ham emails or sampling new data points from existing ham email data to make the dataset balanced. "
   ]
  },
  {
   "cell_type": "markdown",
   "metadata": {
    "id": "pdgW-k1qBCxI"
   },
   "source": [
    "**(b) Construct the documents [4 points]**\n",
    " \n",
    "   - Provided below is a function that returns a document present in a file given a fileName.\n",
    "   - The function performs some preprocessing to (1) remove punctuation, (2),(3) remove whitespace and (4) lowercase all words.\n",
    "   - Use this function to construct a list of documents.\n",
    "   - Also construct a list of document labels containing `1` for spam and `0` for ham."
   ]
  },
  {
   "cell_type": "code",
   "execution_count": null,
   "metadata": {
    "id": "awn7gT9NBCxJ"
   },
   "outputs": [],
   "source": [
    "import re\n",
    "import string\n",
    "import codecs\n",
    "\n",
    "def make_word_list(path):\n",
    "    \n",
    "    with codecs.open(path, \"r\", encoding='utf-8', errors='ignore') as f:\n",
    "        corpus_text = f.read()\n",
    "\n",
    "    for c in string.punctuation:\n",
    "        corpus_text = corpus_text.replace(c, \"\")  # -- (1)\n",
    "    \n",
    "    text = re.sub(r'\\S*\\d\\S*','',corpus_text) # -- (2)\n",
    "    text = re.sub(r'[^\\w\\s]','',text)         # -- (3)\n",
    "    \n",
    "    text = text.lower().split()           # -- (4)         \n",
    "    \n",
    "    li = []\n",
    "    for token in text:\n",
    "        li.append(token)\n",
    "\n",
    "    return \" \".join(li)"
   ]
  },
  {
   "cell_type": "code",
   "execution_count": null,
   "metadata": {
    "id": "tjl-ya1DBCxJ"
   },
   "outputs": [],
   "source": [
    "#your code here\n",
    "\n",
    "document_ham = [make_word_list(file) for file in glob.glob('./email-data/ham/*.txt')]\n",
    "document_spam = [make_word_list(file) for file in glob.glob('./email-data/spam/*.txt')]\n",
    "document = document_ham + document_spam\n",
    "document_label = [0 for i in range(len(document_ham))] + [1 for j in range(len(document_spam))]\n",
    "\n"
   ]
  },
  {
   "cell_type": "markdown",
   "metadata": {
    "id": "a6pn0OdwBCxK"
   },
   "source": [
    "**(c) Construct the document matrix `X` as a matrix of word frequencies [5 points]**\n",
    "\n",
    "   - Use the `CountVectorizer` from scikit-learn.\n",
    "   - Set `min_df=50`; this drops words that don't occur in at least 50 documents.\n",
    "   - Set `stop_words=\"english\"` and `max_df=0.8` to filter out stop-words.\n",
    "   - Print the size of the vocabulary (number of unique words)"
   ]
  },
  {
   "cell_type": "code",
   "execution_count": null,
   "metadata": {
    "id": "O9H5Nmj7BCxK",
    "outputId": "6aa6348c-c266-4485-dff6-97448d7607d0"
   },
   "outputs": [
    {
     "name": "stdout",
     "output_type": "stream",
     "text": [
      "The size of the vocabulary: 1680\n"
     ]
    }
   ],
   "source": [
    "#your code here\n",
    "from sklearn.feature_extraction.text import CountVectorizer\n",
    "tf_vectorizer = CountVectorizer(max_df=0.8,\n",
    "                                min_df=50,\n",
    "                                stop_words='english')\n",
    "tf = tf_vectorizer.fit_transform(document)\n",
    "print(\"The size of the vocabulary:\",tf.shape[1])"
   ]
  },
  {
   "cell_type": "markdown",
   "metadata": {
    "id": "eJ63exayBCxK"
   },
   "source": [
    "**(d) k-NN and random forest: Hyperparameter selection [5 points]**\n",
    "\n",
    "Now that you have your documents and labels as training data, you can perform 5-fold cross-validation to select the hyperparameters for different learning algorithms.\n",
    "\n",
    "The hyperparameter with the best performance averaged across 5 folds is chosen. Use the **weighted F1-score** as the evaluation metric (i.e., for the `f1_score` function imported from `sklearn.metrics`, be sure to use the parameter `average='weighted'`).\n",
    "\n",
    "   - k-NN: Select `k` from a range of values of your choice.\n",
    "   - Random forest: Select `max_features` **and** `min_samples_leaf` from a grid of your choice.\n",
    "\n",
    "Store each chosen hyperparameter as `best_k`, `best_max_features`, and `best_min_samples_leaf` respectively.\n",
    "\n",
    "Provided is some seed code for cross-validation that you may modify and reuse. Do not use the cross-validations score or grid-search functions from scikit-learn (you may use `KFold`)."
   ]
  },
  {
   "cell_type": "code",
   "execution_count": null,
   "metadata": {
    "id": "kez3pD3fBCxK",
    "outputId": "1860e40b-e979-4924-831f-116e40c3051a"
   },
   "outputs": [
    {
     "name": "stdout",
     "output_type": "stream",
     "text": [
      "Best hyperparameter setting: 4\n"
     ]
    }
   ],
   "source": [
    "# K-NN\n",
    "from sklearn.model_selection import KFold\n",
    "from sklearn.metrics import f1_score\n",
    "from sklearn.neighbors import KNeighborsClassifier\n",
    "import numpy as np\n",
    "\n",
    "num_folds = 5\n",
    "k_fold = KFold(num_folds)\n",
    "hyperparameter_settings = [2*i for i in range(1,21)]  # fill this with hyperparameter settings that you want to try\n",
    "\n",
    "best_hyperparam_setting = None\n",
    "best_cross_val_score = -np.inf  # assumes that a higher score is better\n",
    "\n",
    "for hyperparam_setting in hyperparameter_settings:\n",
    "    fold_scores = []\n",
    "    # your code to train and score the training data here\n",
    "    for proper_train_indices, val_indices in k_fold.split(tf):\n",
    "        proper_train_features = tf[proper_train_indices]\n",
    "        proper_train_labels = np.array(document_label)[proper_train_indices]\n",
    "        val_features = tf[val_indices]\n",
    "        val_labels = np.array(document_label)[val_indices]\n",
    "        \n",
    "        classifier = KNeighborsClassifier(n_neighbors=hyperparam_setting)\n",
    "        classifier.fit(proper_train_features, proper_train_labels)\n",
    "        predicted_val_labels = classifier.predict(val_features)\n",
    "        f1 = f1_score(val_labels, predicted_val_labels, average='weighted')\n",
    "        fold_scores.append(f1)\n",
    "    \n",
    "    cross_val_score = np.mean(fold_scores)\n",
    "    if cross_val_score > best_cross_val_score:  # assumes that a higher score is better\n",
    "        best_cross_val_score = cross_val_score\n",
    "        best_hyperparam_setting = hyperparam_setting\n",
    "\n",
    "print('Best hyperparameter setting:', best_hyperparam_setting)"
   ]
  },
  {
   "cell_type": "code",
   "execution_count": null,
   "metadata": {
    "id": "dNZTO5F2BCxL",
    "outputId": "617ffb0d-1f21-4eb1-9050-ec47606b251f"
   },
   "outputs": [
    {
     "name": "stdout",
     "output_type": "stream",
     "text": [
      "Best hyperparameter setting: (11, 1)\n"
     ]
    }
   ],
   "source": [
    "# Random Forest\n",
    "from sklearn.ensemble import RandomForestClassifier\n",
    "\n",
    "num_folds = 5\n",
    "k_fold = KFold(num_folds)\n",
    "hyperparameter_settings = [(max_features, min_samples_leaf) \n",
    "                           for max_features in [int(np.ceil(np.sqrt(tf.shape[1]) / 4)),\n",
    "                                                int(np.ceil(np.sqrt(tf.shape[1]))),\n",
    "                                                int(np.ceil(np.sqrt(tf.shape[1]) * 4))] \n",
    "                           for min_samples_leaf in [1, 2, 4, 8, 16]]  # fill this with hyperparameter settings that you want to try\n",
    "\n",
    "best_hyperparam_setting = None\n",
    "best_cross_val_score = -np.inf  # assumes that a higher score is better\n",
    "\n",
    "for hyperparam_setting in hyperparameter_settings:\n",
    "    fold_scores = []\n",
    "    max_features, min_samples_leaf = hyperparam_setting\n",
    "\n",
    "    # your code to train and score the training data here\n",
    "    for proper_train_indices, val_indices in k_fold.split(tf):\n",
    "        proper_train_features = tf[proper_train_indices]\n",
    "        proper_train_labels = np.array(document_label)[proper_train_indices]\n",
    "        val_features = tf[val_indices]\n",
    "        val_labels = np.array(document_label)[val_indices]\n",
    "        \n",
    "        classifier = RandomForestClassifier(max_features=max_features,\n",
    "                                            min_samples_leaf=min_samples_leaf,\n",
    "                                            random_state=0)\n",
    "        classifier.fit(proper_train_features, proper_train_labels)\n",
    "        predicted_val_labels = classifier.predict(val_features)\n",
    "        f1 = f1_score(val_labels, predicted_val_labels, average='weighted')\n",
    "        fold_scores.append(f1)\n",
    "    \n",
    "    cross_val_score = np.mean(fold_scores)\n",
    "    if cross_val_score > best_cross_val_score:  # assumes that a higher score is better\n",
    "        best_cross_val_score = cross_val_score\n",
    "        best_hyperparam_setting = hyperparam_setting\n",
    "\n",
    "print('Best hyperparameter setting:', best_hyperparam_setting)"
   ]
  },
  {
   "cell_type": "markdown",
   "metadata": {
    "id": "X93-Y_uaBCxL"
   },
   "source": [
    "**(e) Classifier testing: Precision-Recall and ROC curves [10 points]**\n",
    "\n",
    "   - Use the best hyperparameters for each classifier from the previous question to **train** your classifiers on the full training data.\n",
    "   - Use test emails in the `testing` folder to **test** your classifiers and construct the plots below.\n",
    "\n",
    "Things to plot:\n",
    "\n",
    "   - Construct one plot containing 2 ROC curves, one for each classifier. (We vary the threshold probability of declaring an email to be spam to obtain these plots.)\n",
    "   - In the legend of this plot, display the AUC for each classifier.\n",
    "   - Construct one plot containing 2 precision-recall curves, one for each classifier.\n",
    "   - In the legend of each plot, display the average precision for each classifier using the sklearn function [`average_precision_score`](https://scikit-learn.org/stable/modules/generated/sklearn.metrics.average_precision_score.html#sklearn.metrics.average_precision_score); average precision is essentially an approximation of the area under the precision-recall curve that avoids being overly optimistic.\n",
    "\n",
    "Note that these plots are on the test data: you will have to read in this data, construct a document matrix and labels. Some words in the test data may not have been present in the training data: there are multiple ways to address this, briefly describe your approach.\n",
    "\n",
    "Things to answer:\n",
    "\n",
    "   - Of the ROC and Precision-Recall curves, which one would you use for this task and why?\n",
    "   - Which classifier is the best, according to your chosen curves?"
   ]
  },
  {
   "cell_type": "code",
   "execution_count": null,
   "metadata": {
    "id": "3dyYu3Z9BCxL",
    "outputId": "824c6a88-84b8-4df9-d575-a3f5459e6840"
   },
   "outputs": [
    {
     "data": {
      "image/png": "[encoded data removed]",
      "text/plain": [
       "<Figure size 640x480 with 1 Axes>"
      ]
     },
     "metadata": {},
     "output_type": "display_data"
    },
    {
     "data": {
      "image/png": "[encoded data removed]",
      "text/plain": [
       "<Figure size 640x480 with 1 Axes>"
      ]
     },
     "metadata": {},
     "output_type": "display_data"
    }
   ],
   "source": [
    "#your code here\n",
    "from sklearn.metrics import roc_curve, average_precision_score, precision_recall_curve\n",
    "%matplotlib inline\n",
    "import matplotlib.pyplot as plt\n",
    "\n",
    "\n",
    "test_doc, test_label = zip(*[(make_word_list(file), 0 if file.split('.')[-2]=='ham' else 1) for file in glob.glob('./email-data/testing/*.txt')])\n",
    "test_data = tf_vectorizer.transform(test_doc)\n",
    "test_data = test_data.toarray()\n",
    "test_label = np.array(test_label)\n",
    "\n",
    "knn_classifier = KNeighborsClassifier(n_neighbors=4)\n",
    "rf_classifier = RandomForestClassifier(max_features=11,\n",
    "                                       min_samples_leaf=1)\n",
    "model = [knn_classifier, rf_classifier]\n",
    "model_name = ['K-NN', 'Random Forest']\n",
    "\n",
    "for m, name in zip(model, model_name):\n",
    "    m.fit(tf, np.array(document_label))\n",
    "    y_score = m.predict_proba(test_data)[:,1]\n",
    "    fpr, tpr, thresholds = roc_curve(test_label, y_score, pos_label=1)\n",
    "    auc = np.trapz(tpr, fpr)\n",
    "    plt.plot(fpr, tpr, linestyle='-', label = 'Model: {}, AUC: {:.2f}'.format(name, auc))\n",
    "\n",
    "plt.title(\"ROC curve\")\n",
    "plt.legend()\n",
    "plt.xlabel(\"FPR\")\n",
    "plt.ylabel(\"TPR\")\n",
    "plt.grid()\n",
    "plt.show()\n",
    "\n",
    "for m, name in zip(model, model_name):\n",
    "    m.fit(tf, np.array(document_label))\n",
    "    y_score = m.predict_proba(test_data)[:,1]\n",
    "    precision, recall, thresholds = precision_recall_curve(test_label, y_score)\n",
    "    avg_precision = average_precision_score(test_label, y_score)\n",
    "    plt.plot(recall, precision, label = 'Model: {}, Average Precision: {:.2f}'.format(name, avg_precision))\n",
    "\n",
    "\n",
    "plt.title(\"Precision-Recall curve\")\n",
    "plt.legend()\n",
    "plt.xlabel(\"Recall\")\n",
    "plt.ylabel(\"Precision\")\n",
    "plt.grid()\n",
    "plt.show()\n",
    "\n"
   ]
  },
  {
   "cell_type": "markdown",
   "metadata": {
    "id": "pmzosCz6BCxM"
   },
   "source": [
    "**Your answers to the above questions:**\n",
    "\n",
    "When some words in the test data do not occur in the training data, addressing this by just ignoring these words and still keep the vocabulary formed from the train data. And use the fitted CountVectorizer to transform the test documents.\n",
    "\n",
    "I will use ROC curve for this task. Because in this task, we care more about not classifying a ham email into spam, which means we want to lower the FPR. Therefore, ROC curve is more helpful in deciding this than judging from the whole sample precision when data is imbalanced. Also, from the two plots, we could find that the ROC curve is smooth with less spike. \n",
    "\n",
    "Random Forest classifier with max_features = 11 and min_samples_leaf = 1 is the best classifier. Because according to the ROC curve, under all thresholds, when the FPR rate is the same, the TPR of this classifier is higher than the TPR of the best K-NN classifier. And the AUC value of this classifier is 0.95, which much higher than that of K-NN classifier(0.82). "
   ]
  },
  {
   "cell_type": "markdown",
   "metadata": {
    "id": "aS1g1Kb-BCxM"
   },
   "source": [
    "# Part 2: Representation Learning [40 points]\n",
    "\n",
    "Before getting started, please put the attached file `pretrained_convnet.pt` in the same directory as this notebook.\n",
    "\n",
    "Recall from lecture the \"crumpled paper analogy\": in a neural net, as you progress through the layers from input to output, the layers should be \"unfolding the original space\" to disentangle the classes. When you get to the layer before the classifier, you should've changed the data representation into something that makes classification easy. **We will refer to the layer before the classifier in the neural net as the bottleneck layer.**\n",
    "\n",
    "In this problem, you will be using an output of a bottleneck layer from pre-trained CNN as input features for a few simple classifiers. The CNN provided was trained with the Fashion MNIST dataset which consists of 10 classes of 28x28 grayscale images; this dataset is very similar to MNIST in that there are 10 classes with images that are the same size as MNIST and in fact even the training and test set sizes are the same (60,000 and 10,000 respectively). However, the classes are not the digits 0 through 9. Instead the classes are:\n",
    "\n",
    "| Class | Description |\n",
    "| ----- | :---------: |\n",
    "| 0     | T-shirt/top |\n",
    "| 1     | Trouser     |\n",
    "| 2     | Pullover    |\n",
    "| 3     | Dress       |\n",
    "| 4     | Coat        |\n",
    "| 5     | Sandal      |\n",
    "| 6     | Shirt       |\n",
    "| 7     | Sneaker     |\n",
    "| 8     | Bag         |\n",
    "| 9     | Ankle boot  |"
   ]
  },
  {
   "cell_type": "markdown",
   "metadata": {
    "id": "Eygvb36tBCxM"
   },
   "source": [
    "Let's start with some imports."
   ]
  },
  {
   "cell_type": "code",
   "execution_count": 47,
   "metadata": {
    "id": "7J0FFhBgBCxM"
   },
   "outputs": [],
   "source": [
    "%matplotlib inline\n",
    "import matplotlib.pyplot as plt\n",
    "import numpy as np\n",
    "\n",
    "import torch\n",
    "import torch.nn as nn\n",
    "import torchvision\n",
    "import torchvision.transforms as transforms\n",
    "from torchsummaryX import summary\n",
    "\n",
    "from UDA_pytorch_utils import UDA_pytorch_classifier_fit, \\\n",
    "        UDA_plot_train_val_accuracy_vs_epoch, UDA_pytorch_classifier_predict, \\\n",
    "        UDA_pytorch_model_transform, UDA_compute_accuracy"
   ]
  },
  {
   "cell_type": "markdown",
   "metadata": {
    "id": "P3UmjwDtBCxM"
   },
   "source": [
    "**Loading in the data.** We first load the Fashion MNIST dataset and plot some example images."
   ]
  },
  {
   "cell_type": "code",
   "execution_count": 48,
   "metadata": {
    "colab": {
     "base_uri": "https://localhost:8080/",
     "height": 708,
     "referenced_widgets": [
      "fbe71af414a34447832379a871eabd18",
      "1ff8bccbae034f0aa0753fdc9ba7c4e5",
      "ef4d1177037c4440a812ac42282ca11d",
      "6062c5d52e554208868a4c833d4ef2c5",
      "53dbe9a6319042c2a5b6d561312ada13",
      "c8d01d4c05d54f41b6036dd632292468",
      "0c60a19cb9c64119bbf3eeea34dedab5",
      "414e74e484a04165a06d677cb473f968",
      "267f466d3d584c6aa4a2d79dfbf71eac",
      "d6f4d7014ddf4642aa7d8142c2a19df1",
      "812edaa9c45549e59d90e36a4ac8e6da",
      "ec878b7e3d644dc3b73f2f7f63163dc4",
      "df3514f33b4b4def9892e5371cfeb854",
      "bcef8f9777b04cf3998570db9344ee2f",
      "44cc7f63f81d43378ec0698ec06c177f",
      "7779396776ca48e895fd5c3fd5c87fe0",
      "e4fb73be03c64ecd84a1a04269dda884",
      "45c1dc39794f4de7864519932b994b8b",
      "b831fad64b074703b284c683cd3509d4",
      "5d7e46e0b25c41ad82f38de63ad02485",
      "abc0d14673bb4312928c972b12e492e0",
      "f1f12cc4d5d34380ad8cb286da9c6385",
      "bca009d26050417491388b22330aa83e",
      "8020c6b7d5ef4d178806458d1ca70313",
      "0b26a16b9fec4bc98181d71f1f1240f1",
      "589c206e6adc468580fd78a840f73979",
      "6b4e1f602ff74abe9be6658c4bc4c312",
      "1ff730cd29b24483b9301bd40c4b84d6",
      "49124ba315d2474caedde313cb73df03",
      "a0ac3d742241484382ab4af7a1b2928b",
      "b0b1c684729f423597e8dd8be2d926b9",
      "5fe5c5ec90c44a0c9d6d3d6bb0e27ccc",
      "666e07b5f4024155a8995c57bcd06d16",
      "03cc2e3a869440768253c43139e31d75",
      "847ef8007492419daeb0226063b55fe7",
      "b03c8d26c84b43e79b96af17b468b929",
      "00b339e6192443ddb5c72fe1f03ba2d0",
      "d669ffce7e8a417dadc1781a782c33e4",
      "6ce073d3c65441358b4ce1ebbcff798c",
      "045a8d9f9b8c41278f522b272c26cc0f",
      "aa4663f2da9f4778922e320b004fdbe5",
      "698ccaa78bab415b909675c18332ef63",
      "d33ec81f61734626b8aac68ca1319ea9",
      "45e3ff588c054f129072db88f6b39fce"
     ]
    },
    "id": "cpB-IRpyBCxM",
    "outputId": "9d906b7d-575a-4b4e-aee2-191e85cbb6bc"
   },
   "outputs": [
    {
     "name": "stdout",
     "output_type": "stream",
     "text": [
      "Downloading http://fashion-mnist.s3-website.eu-central-1.amazonaws.com/train-images-idx3-ubyte.gz\n",
      "Downloading http://fashion-mnist.s3-website.eu-central-1.amazonaws.com/train-images-idx3-ubyte.gz to data/FashionMNIST/raw/train-images-idx3-ubyte.gz\n"
     ]
    },
    {
     "data": {
      "application/vnd.jupyter.widget-view+json": {
       "model_id": "fbe71af414a34447832379a871eabd18",
       "version_major": 2,
       "version_minor": 0
      },
      "text/plain": [
       "  0%|          | 0/26421880 [00:00<?, ?it/s]"
      ]
     },
     "metadata": {},
     "output_type": "display_data"
    },
    {
     "name": "stdout",
     "output_type": "stream",
     "text": [
      "Extracting data/FashionMNIST/raw/train-images-idx3-ubyte.gz to data/FashionMNIST/raw\n",
      "\n",
      "Downloading http://fashion-mnist.s3-website.eu-central-1.amazonaws.com/train-labels-idx1-ubyte.gz\n",
      "Downloading http://fashion-mnist.s3-website.eu-central-1.amazonaws.com/train-labels-idx1-ubyte.gz to data/FashionMNIST/raw/train-labels-idx1-ubyte.gz\n"
     ]
    },
    {
     "data": {
      "application/vnd.jupyter.widget-view+json": {
       "model_id": "ec878b7e3d644dc3b73f2f7f63163dc4",
       "version_major": 2,
       "version_minor": 0
      },
      "text/plain": [
       "  0%|          | 0/29515 [00:00<?, ?it/s]"
      ]
     },
     "metadata": {},
     "output_type": "display_data"
    },
    {
     "name": "stdout",
     "output_type": "stream",
     "text": [
      "Extracting data/FashionMNIST/raw/train-labels-idx1-ubyte.gz to data/FashionMNIST/raw\n",
      "\n",
      "Downloading http://fashion-mnist.s3-website.eu-central-1.amazonaws.com/t10k-images-idx3-ubyte.gz\n",
      "Downloading http://fashion-mnist.s3-website.eu-central-1.amazonaws.com/t10k-images-idx3-ubyte.gz to data/FashionMNIST/raw/t10k-images-idx3-ubyte.gz\n"
     ]
    },
    {
     "data": {
      "application/vnd.jupyter.widget-view+json": {
       "model_id": "bca009d26050417491388b22330aa83e",
       "version_major": 2,
       "version_minor": 0
      },
      "text/plain": [
       "  0%|          | 0/4422102 [00:00<?, ?it/s]"
      ]
     },
     "metadata": {},
     "output_type": "display_data"
    },
    {
     "name": "stdout",
     "output_type": "stream",
     "text": [
      "Extracting data/FashionMNIST/raw/t10k-images-idx3-ubyte.gz to data/FashionMNIST/raw\n",
      "\n",
      "Downloading http://fashion-mnist.s3-website.eu-central-1.amazonaws.com/t10k-labels-idx1-ubyte.gz\n",
      "Downloading http://fashion-mnist.s3-website.eu-central-1.amazonaws.com/t10k-labels-idx1-ubyte.gz to data/FashionMNIST/raw/t10k-labels-idx1-ubyte.gz\n"
     ]
    },
    {
     "data": {
      "application/vnd.jupyter.widget-view+json": {
       "model_id": "03cc2e3a869440768253c43139e31d75",
       "version_major": 2,
       "version_minor": 0
      },
      "text/plain": [
       "  0%|          | 0/5148 [00:00<?, ?it/s]"
      ]
     },
     "metadata": {},
     "output_type": "display_data"
    },
    {
     "name": "stdout",
     "output_type": "stream",
     "text": [
      "Extracting data/FashionMNIST/raw/t10k-labels-idx1-ubyte.gz to data/FashionMNIST/raw\n",
      "\n"
     ]
    },
    {
     "name": "stderr",
     "output_type": "stream",
     "text": [
      "<ipython-input-48-35012220dad7>:7: UserWarning: Creating a tensor from a list of numpy.ndarrays is extremely slow. Please consider converting the list to a single numpy.ndarray with numpy.array() before converting to a tensor. (Triggered internally at ../torch/csrc/utils/tensor_new.cpp:230.)\n",
      "  train_images = torch.tensor([image.numpy() for image, label in train_dataset])\n"
     ]
    },
    {
     "data": {
      "image/png": "[encoded data removed]",
      "text/plain": [
       "<Figure size 432x288 with 64 Axes>"
      ]
     },
     "metadata": {
      "needs_background": "light"
     },
     "output_type": "display_data"
    }
   ],
   "source": [
    "# do not modify this cell\n",
    "train_dataset = torchvision.datasets.FashionMNIST(root='data/',\n",
    "                                                  train=True,\n",
    "                                                  transform=transforms.ToTensor(),\n",
    "                                                  download=True)\n",
    "\n",
    "train_images = torch.tensor([image.numpy() for image, label in train_dataset])\n",
    "train_labels = torch.tensor([label for image, label in train_dataset])\n",
    "\n",
    "test_dataset = torchvision.datasets.FashionMNIST(root='data/',\n",
    "                                                 train=False,\n",
    "                                                 transform=transforms.ToTensor(),\n",
    "                                                 download=True)\n",
    "\n",
    "test_images = torch.tensor([image.numpy() for image, label in test_dataset])\n",
    "test_labels = torch.tensor([label for image, label in test_dataset])\n",
    "\n",
    "# show some of the first training images\n",
    "square_grid_num_rows = 8\n",
    "num_images_to_show = square_grid_num_rows ** 2\n",
    "for idx in range(num_images_to_show):\n",
    "    plt.subplot(square_grid_num_rows, square_grid_num_rows, idx + 1)\n",
    "    plt.imshow(train_images[idx][0], cmap='gray')\n",
    "    plt.axis('off')"
   ]
  },
  {
   "cell_type": "markdown",
   "metadata": {
    "id": "pHIWCDDMBCxN"
   },
   "source": [
    "**(a) [5 points]** Select train and test data that belong to classes 2 (corresponding to pullovers) or 6 (corresponding to fancier shirts than t-shirts; note: class 0 corresponds to t-shirts), i.e., subsample all the data that has label 2 or 6. Save the variables as `x_train`, `x_test`, `y_train`, `y_test`. From now on, we are only dealing with the images that are in classes 2 (pullovers) or 6 (shirts). Moreover, in `y_train` and `y_test`, please renumber the two classes so that pullovers now instead corresponds to 0 and shirts corresponds to 1 (we will consider shirts to be the \"positive\" class and pullovers to be the \"negative\" class)."
   ]
  },
  {
   "cell_type": "code",
   "execution_count": 49,
   "metadata": {
    "id": "3-NlzEGSBCxN"
   },
   "outputs": [],
   "source": [
    "# write your code here\n",
    "x_train = train_images[((train_labels==2) | (train_labels==6))]\n",
    "y_train = torch.tensor([0 if l==2 else 1 for l in train_labels[((train_labels==2) | (train_labels==6))]])\n",
    "x_test = test_images[((test_labels==2) | (test_labels==6))]\n",
    "y_test = torch.tensor([0 if l==2 else 1 for l in test_labels[((test_labels==2) | (test_labels==6))]])\n"
   ]
  },
  {
   "cell_type": "code",
   "execution_count": 50,
   "metadata": {
    "colab": {
     "base_uri": "https://localhost:8080/"
    },
    "id": "D4KmQfoxBCxN",
    "outputId": "ab0b73b4-f1e1-4d0e-efd1-88908058b3b3"
   },
   "outputs": [
    {
     "name": "stdout",
     "output_type": "stream",
     "text": [
      "torch.Size([12000, 1, 28, 28]) torch.Size([12000])\n",
      "torch.Size([2000, 1, 28, 28]) torch.Size([2000])\n"
     ]
    }
   ],
   "source": [
    "# do not modify this cell\n",
    "print(x_train.shape, y_train.shape)\n",
    "print(x_test.shape, y_test.shape)"
   ]
  },
  {
   "cell_type": "markdown",
   "metadata": {
    "id": "KNdkyEfgBCxN"
   },
   "source": [
    "We will make some t-SNE visualizations shortly and using all the training data will be too slow. We reduce the size of the training dataset by randomly subsampling 1000 samples from `x_train`/`y_train` pairs and saving the subsampled versions as `x_train_small`/`y_train_small` (the i-th image in `x_train_small` should have its label given by the i-th entry in `y_train_small`). We have provided the indices of which 1000 samples to use (from within `x_train`/`y_train`)."
   ]
  },
  {
   "cell_type": "code",
   "execution_count": 51,
   "metadata": {
    "id": "Hi15Ml3TBCxN"
   },
   "outputs": [],
   "source": [
    "# do not modify this cell\n",
    "np.random.seed(0)\n",
    "random_sample = np.random.permutation(len(x_train))[:1000]"
   ]
  },
  {
   "cell_type": "code",
   "execution_count": 52,
   "metadata": {
    "id": "7T6CXlBHBCxN"
   },
   "outputs": [],
   "source": [
    "# write your code here\n",
    "x_train_small = x_train[random_sample]\n",
    "y_train_small = y_train[random_sample]"
   ]
  },
  {
   "cell_type": "markdown",
   "metadata": {
    "id": "8BTGJtC3BCxN"
   },
   "source": [
    "**(b) [9 points]** We are ready to load the pre-trained convnet. The bottleneck layer is right before the final linear layer and corresponds to the output of a ReLU that has 84 values. **We refer to the output of this ReLU as the bottleneck feature vector representation of whatever the input is.**\n",
    "\n",
    "Note that the convnet was pre-trained using the entire training dataset which consists of 60,000 samples and all 10 labels."
   ]
  },
  {
   "cell_type": "code",
   "execution_count": 58,
   "metadata": {
    "colab": {
     "base_uri": "https://localhost:8080/",
     "height": 1000
    },
    "id": "kHQBmv9oBCxN",
    "outputId": "ceca5056-3e52-469d-8b95-1e1fae186520"
   },
   "outputs": [
    {
     "name": "stdout",
     "output_type": "stream",
     "text": [
      "[Summary of pre-trained convnet]\n",
      "=========================================================\n",
      "        Kernel Shape     Output Shape   Params Mult-Adds\n",
      "Layer                                                   \n",
      "0_0     [1, 6, 3, 3]   [1, 6, 26, 26]     60.0   36.504k\n",
      "1_1                -   [1, 6, 26, 26]        -         -\n",
      "2_2                -   [1, 6, 13, 13]        -         -\n",
      "3_3    [6, 16, 3, 3]  [1, 16, 11, 11]    880.0  104.544k\n",
      "4_4                -  [1, 16, 11, 11]        -         -\n",
      "5_5                -    [1, 16, 5, 5]        -         -\n",
      "6_6                -         [1, 400]        -         -\n",
      "7_7       [400, 120]         [1, 120]   48.12k     48.0k\n",
      "8_8                -         [1, 120]        -         -\n",
      "9_9        [120, 84]          [1, 84]  10.164k    10.08k\n",
      "10_10              -          [1, 84]        -         -\n",
      "11_11       [84, 10]          [1, 10]    850.0     840.0\n",
      "---------------------------------------------------------\n",
      "                        Totals\n",
      "Total params           60.074k\n",
      "Trainable params       60.074k\n",
      "Non-trainable params       0.0\n",
      "Mult-Adds             199.968k\n",
      "=========================================================\n",
      "\n",
      "[Summary of the pre-trained convnet up to the bottleneck layer]\n",
      "=========================================================\n",
      "        Kernel Shape     Output Shape   Params Mult-Adds\n",
      "Layer                                                   \n",
      "0_0     [1, 6, 3, 3]   [1, 6, 26, 26]     60.0   36.504k\n",
      "1_1                -   [1, 6, 26, 26]        -         -\n",
      "2_2                -   [1, 6, 13, 13]        -         -\n",
      "3_3    [6, 16, 3, 3]  [1, 16, 11, 11]    880.0  104.544k\n",
      "4_4                -  [1, 16, 11, 11]        -         -\n",
      "5_5                -    [1, 16, 5, 5]        -         -\n",
      "6_6                -         [1, 400]        -         -\n",
      "7_7       [400, 120]         [1, 120]   48.12k     48.0k\n",
      "8_8                -         [1, 120]        -         -\n",
      "9_9        [120, 84]          [1, 84]  10.164k    10.08k\n",
      "10_10              -          [1, 84]        -         -\n",
      "---------------------------------------------------------\n",
      "                        Totals\n",
      "Total params           59.224k\n",
      "Trainable params       59.224k\n",
      "Non-trainable params       0.0\n",
      "Mult-Adds             199.128k\n",
      "=========================================================\n"
     ]
    },
    {
     "name": "stderr",
     "output_type": "stream",
     "text": [
      "/usr/local/lib/python3.8/dist-packages/torchsummaryX/torchsummaryX.py:101: FutureWarning: Dropping of nuisance columns in DataFrame reductions (with 'numeric_only=None') is deprecated; in a future version this will raise TypeError.  Select only valid columns before calling the reduction.\n",
      "  df_sum = df.sum()\n",
      "/usr/local/lib/python3.8/dist-packages/torchsummaryX/torchsummaryX.py:101: FutureWarning: Dropping of nuisance columns in DataFrame reductions (with 'numeric_only=None') is deprecated; in a future version this will raise TypeError.  Select only valid columns before calling the reduction.\n",
      "  df_sum = df.sum()\n"
     ]
    },
    {
     "data": {
      "text/html": [
       "\n",
       "  <div id=\"df-b8b7ffd5-e625-4353-abe1-5ada8f028a7c\">\n",
       "    <div class=\"colab-df-container\">\n",
       "      <div>\n",
       "<style scoped>\n",
       "    .dataframe tbody tr th:only-of-type {\n",
       "        vertical-align: middle;\n",
       "    }\n",
       "\n",
       "    .dataframe tbody tr th {\n",
       "        vertical-align: top;\n",
       "    }\n",
       "\n",
       "    .dataframe thead th {\n",
       "        text-align: right;\n",
       "    }\n",
       "</style>\n",
       "<table border=\"1\" class=\"dataframe\">\n",
       "  <thead>\n",
       "    <tr style=\"text-align: right;\">\n",
       "      <th></th>\n",
       "      <th>Kernel Shape</th>\n",
       "      <th>Output Shape</th>\n",
       "      <th>Params</th>\n",
       "      <th>Mult-Adds</th>\n",
       "    </tr>\n",
       "    <tr>\n",
       "      <th>Layer</th>\n",
       "      <th></th>\n",
       "      <th></th>\n",
       "      <th></th>\n",
       "      <th></th>\n",
       "    </tr>\n",
       "  </thead>\n",
       "  <tbody>\n",
       "    <tr>\n",
       "      <th>0_0</th>\n",
       "      <td>[1, 6, 3, 3]</td>\n",
       "      <td>[1, 6, 26, 26]</td>\n",
       "      <td>60.0</td>\n",
       "      <td>36504.0</td>\n",
       "    </tr>\n",
       "    <tr>\n",
       "      <th>1_1</th>\n",
       "      <td>-</td>\n",
       "      <td>[1, 6, 26, 26]</td>\n",
       "      <td>NaN</td>\n",
       "      <td>NaN</td>\n",
       "    </tr>\n",
       "    <tr>\n",
       "      <th>2_2</th>\n",
       "      <td>-</td>\n",
       "      <td>[1, 6, 13, 13]</td>\n",
       "      <td>NaN</td>\n",
       "      <td>NaN</td>\n",
       "    </tr>\n",
       "    <tr>\n",
       "      <th>3_3</th>\n",
       "      <td>[6, 16, 3, 3]</td>\n",
       "      <td>[1, 16, 11, 11]</td>\n",
       "      <td>880.0</td>\n",
       "      <td>104544.0</td>\n",
       "    </tr>\n",
       "    <tr>\n",
       "      <th>4_4</th>\n",
       "      <td>-</td>\n",
       "      <td>[1, 16, 11, 11]</td>\n",
       "      <td>NaN</td>\n",
       "      <td>NaN</td>\n",
       "    </tr>\n",
       "    <tr>\n",
       "      <th>5_5</th>\n",
       "      <td>-</td>\n",
       "      <td>[1, 16, 5, 5]</td>\n",
       "      <td>NaN</td>\n",
       "      <td>NaN</td>\n",
       "    </tr>\n",
       "    <tr>\n",
       "      <th>6_6</th>\n",
       "      <td>-</td>\n",
       "      <td>[1, 400]</td>\n",
       "      <td>NaN</td>\n",
       "      <td>NaN</td>\n",
       "    </tr>\n",
       "    <tr>\n",
       "      <th>7_7</th>\n",
       "      <td>[400, 120]</td>\n",
       "      <td>[1, 120]</td>\n",
       "      <td>48120.0</td>\n",
       "      <td>48000.0</td>\n",
       "    </tr>\n",
       "    <tr>\n",
       "      <th>8_8</th>\n",
       "      <td>-</td>\n",
       "      <td>[1, 120]</td>\n",
       "      <td>NaN</td>\n",
       "      <td>NaN</td>\n",
       "    </tr>\n",
       "    <tr>\n",
       "      <th>9_9</th>\n",
       "      <td>[120, 84]</td>\n",
       "      <td>[1, 84]</td>\n",
       "      <td>10164.0</td>\n",
       "      <td>10080.0</td>\n",
       "    </tr>\n",
       "    <tr>\n",
       "      <th>10_10</th>\n",
       "      <td>-</td>\n",
       "      <td>[1, 84]</td>\n",
       "      <td>NaN</td>\n",
       "      <td>NaN</td>\n",
       "    </tr>\n",
       "  </tbody>\n",
       "</table>\n",
       "</div>\n",
       "      <button class=\"colab-df-convert\" onclick=\"convertToInteractive('df-b8b7ffd5-e625-4353-abe1-5ada8f028a7c')\"\n",
       "              title=\"Convert this dataframe to an interactive table.\"\n",
       "              style=\"display:none;\">\n",
       "        \n",
       "  <svg xmlns=\"http://www.w3.org/2000/svg\" height=\"24px\"viewBox=\"0 0 24 24\"\n",
       "       width=\"24px\">\n",
       "    <path d=\"M0 0h24v24H0V0z\" fill=\"none\"/>\n",
       "    <path d=\"M18.56 5.44l.94 2.06.94-2.06 2.06-.94-2.06-.94-.94-2.06-.94 2.06-2.06.94zm-11 1L8.5 8.5l.94-2.06 2.06-.94-2.06-.94L8.5 2.5l-.94 2.06-2.06.94zm10 10l.94 2.06.94-2.06 2.06-.94-2.06-.94-.94-2.06-.94 2.06-2.06.94z\"/><path d=\"M17.41 7.96l-1.37-1.37c-.4-.4-.92-.59-1.43-.59-.52 0-1.04.2-1.43.59L10.3 9.45l-7.72 7.72c-.78.78-.78 2.05 0 2.83L4 21.41c.39.39.9.59 1.41.59.51 0 1.02-.2 1.41-.59l7.78-7.78 2.81-2.81c.8-.78.8-2.07 0-2.86zM5.41 20L4 18.59l7.72-7.72 1.47 1.35L5.41 20z\"/>\n",
       "  </svg>\n",
       "      </button>\n",
       "      \n",
       "  <style>\n",
       "    .colab-df-container {\n",
       "      display:flex;\n",
       "      flex-wrap:wrap;\n",
       "      gap: 12px;\n",
       "    }\n",
       "\n",
       "    .colab-df-convert {\n",
       "      background-color: #E8F0FE;\n",
       "      border: none;\n",
       "      border-radius: 50%;\n",
       "      cursor: pointer;\n",
       "      display: none;\n",
       "      fill: #1967D2;\n",
       "      height: 32px;\n",
       "      padding: 0 0 0 0;\n",
       "      width: 32px;\n",
       "    }\n",
       "\n",
       "    .colab-df-convert:hover {\n",
       "      background-color: #E2EBFA;\n",
       "      box-shadow: 0px 1px 2px rgba(60, 64, 67, 0.3), 0px 1px 3px 1px rgba(60, 64, 67, 0.15);\n",
       "      fill: #174EA6;\n",
       "    }\n",
       "\n",
       "    [theme=dark] .colab-df-convert {\n",
       "      background-color: #3B4455;\n",
       "      fill: #D2E3FC;\n",
       "    }\n",
       "\n",
       "    [theme=dark] .colab-df-convert:hover {\n",
       "      background-color: #434B5C;\n",
       "      box-shadow: 0px 1px 3px 1px rgba(0, 0, 0, 0.15);\n",
       "      filter: drop-shadow(0px 1px 2px rgba(0, 0, 0, 0.3));\n",
       "      fill: #FFFFFF;\n",
       "    }\n",
       "  </style>\n",
       "\n",
       "      <script>\n",
       "        const buttonEl =\n",
       "          document.querySelector('#df-b8b7ffd5-e625-4353-abe1-5ada8f028a7c button.colab-df-convert');\n",
       "        buttonEl.style.display =\n",
       "          google.colab.kernel.accessAllowed ? 'block' : 'none';\n",
       "\n",
       "        async function convertToInteractive(key) {\n",
       "          const element = document.querySelector('#df-b8b7ffd5-e625-4353-abe1-5ada8f028a7c');\n",
       "          const dataTable =\n",
       "            await google.colab.kernel.invokeFunction('convertToInteractive',\n",
       "                                                     [key], {});\n",
       "          if (!dataTable) return;\n",
       "\n",
       "          const docLinkHtml = 'Like what you see? Visit the ' +\n",
       "            '<a target=\"_blank\" href=https://colab.research.google.com/notebooks/data_table.ipynb>data table notebook</a>'\n",
       "            + ' to learn more about interactive tables.';\n",
       "          element.innerHTML = '';\n",
       "          dataTable['output_type'] = 'display_data';\n",
       "          await google.colab.output.renderOutput(dataTable, element);\n",
       "          const docLink = document.createElement('div');\n",
       "          docLink.innerHTML = docLinkHtml;\n",
       "          element.appendChild(docLink);\n",
       "        }\n",
       "      </script>\n",
       "    </div>\n",
       "  </div>\n",
       "  "
      ],
      "text/plain": [
       "        Kernel Shape     Output Shape   Params  Mult-Adds\n",
       "Layer                                                    \n",
       "0_0     [1, 6, 3, 3]   [1, 6, 26, 26]     60.0    36504.0\n",
       "1_1                -   [1, 6, 26, 26]      NaN        NaN\n",
       "2_2                -   [1, 6, 13, 13]      NaN        NaN\n",
       "3_3    [6, 16, 3, 3]  [1, 16, 11, 11]    880.0   104544.0\n",
       "4_4                -  [1, 16, 11, 11]      NaN        NaN\n",
       "5_5                -    [1, 16, 5, 5]      NaN        NaN\n",
       "6_6                -         [1, 400]      NaN        NaN\n",
       "7_7       [400, 120]         [1, 120]  48120.0    48000.0\n",
       "8_8                -         [1, 120]      NaN        NaN\n",
       "9_9        [120, 84]          [1, 84]  10164.0    10080.0\n",
       "10_10              -          [1, 84]      NaN        NaN"
      ]
     },
     "execution_count": 58,
     "metadata": {},
     "output_type": "execute_result"
    }
   ],
   "source": [
    "# load the pre-trained CNN\n",
    "convnet = nn.Sequential(nn.Conv2d(1, 6, 3),\n",
    "                        nn.ReLU(),\n",
    "                        nn.MaxPool2d(2),\n",
    "                        nn.Conv2d(6, 16, 3),\n",
    "                        nn.ReLU(),\n",
    "                        nn.MaxPool2d(2),\n",
    "                        nn.Flatten(),\n",
    "                        nn.Linear(in_features=16 * 5 * 5, out_features=120),\n",
    "                        nn.ReLU(),\n",
    "                        nn.Linear(in_features=120, out_features=84),\n",
    "                        nn.ReLU(),\n",
    "                        nn.Linear(in_features=84, out_features=10))\n",
    "convnet.load_state_dict(torch.load('pretrained_convnet.pt', map_location='cpu'))\n",
    "convnet.eval()\n",
    "print('[Summary of pre-trained convnet]')\n",
    "summary(convnet, torch.zeros((1, 1, 28, 28)))\n",
    "print()\n",
    "\n",
    "# select the pretrained CNN upto the bottleneck layer\n",
    "intermediate_layer_model = convnet[:-1]\n",
    "print('[Summary of the pre-trained convnet up to the bottleneck layer]')\n",
    "summary(intermediate_layer_model, torch.zeros((1, 1, 28, 28)))"
   ]
  },
  {
   "cell_type": "markdown",
   "metadata": {
    "id": "Ud6Pst03BCxN"
   },
   "source": [
    "We first extract bottleneck feature vectors of the subsampled 1000 training data from the intermediate model."
   ]
  },
  {
   "cell_type": "code",
   "execution_count": 59,
   "metadata": {
    "id": "5o5mg56_BCxN"
   },
   "outputs": [],
   "source": [
    "# do not modify this cell\n",
    "x_train_small_bottleneck_representation = UDA_pytorch_model_transform(intermediate_layer_model, x_train_small)"
   ]
  },
  {
   "cell_type": "markdown",
   "metadata": {
    "id": "UYDhtHw3BCxO"
   },
   "source": [
    "Next, visualize two different types of features with t-SNE.\n",
    "\n",
    "1. Make a t-SNE plot using the **784 (=28$\\times$28) dimensional raw features** from the subsampled training data (i.e., using `x_train_small`). Set `n_components=2, verbose=1, perplexity=25, random_state=0` for `TSNE` from scikit-learn. Plot the two classes in different colors.\n",
    "\n",
    "2. Repeat the previous step (using the exact same arguments for `TSNE`) except now using the **84 dimensional bottleneck features** (i.e., using `x_train_small_bottleneck_representation`.\n",
    "\n",
    "You may need to convert between PyTorch tensors and NumPy arrays."
   ]
  },
  {
   "cell_type": "code",
   "execution_count": 60,
   "metadata": {
    "colab": {
     "base_uri": "https://localhost:8080/",
     "height": 927
    },
    "id": "62g1oFlbBCxO",
    "outputId": "177f3755-3a5d-469e-c07b-63d56cefa553"
   },
   "outputs": [
    {
     "name": "stderr",
     "output_type": "stream",
     "text": [
      "/usr/local/lib/python3.8/dist-packages/sklearn/manifold/_t_sne.py:780: FutureWarning: The default initialization in TSNE will change from 'random' to 'pca' in 1.2.\n",
      "  warnings.warn(\n",
      "/usr/local/lib/python3.8/dist-packages/sklearn/manifold/_t_sne.py:790: FutureWarning: The default learning rate in TSNE will change from 200.0 to 'auto' in 1.2.\n",
      "  warnings.warn(\n"
     ]
    },
    {
     "name": "stdout",
     "output_type": "stream",
     "text": [
      "[t-SNE] Computing 76 nearest neighbors...\n",
      "[t-SNE] Indexed 1000 samples in 0.001s...\n",
      "[t-SNE] Computed neighbors for 1000 samples in 0.127s...\n",
      "[t-SNE] Computed conditional probabilities for sample 1000 / 1000\n",
      "[t-SNE] Mean sigma: 1.929497\n",
      "[t-SNE] KL divergence after 250 iterations with early exaggeration: 71.046600\n",
      "[t-SNE] KL divergence after 1000 iterations: 1.063490\n"
     ]
    },
    {
     "data": {
      "image/png": "[encoded data removed]",
      "text/plain": [
       "<Figure size 432x288 with 1 Axes>"
      ]
     },
     "metadata": {
      "needs_background": "light"
     },
     "output_type": "display_data"
    },
    {
     "name": "stdout",
     "output_type": "stream",
     "text": [
      "[t-SNE] Computing 76 nearest neighbors...\n",
      "[t-SNE] Indexed 1000 samples in 0.001s...\n"
     ]
    },
    {
     "name": "stderr",
     "output_type": "stream",
     "text": [
      "/usr/local/lib/python3.8/dist-packages/sklearn/manifold/_t_sne.py:780: FutureWarning: The default initialization in TSNE will change from 'random' to 'pca' in 1.2.\n",
      "  warnings.warn(\n",
      "/usr/local/lib/python3.8/dist-packages/sklearn/manifold/_t_sne.py:790: FutureWarning: The default learning rate in TSNE will change from 200.0 to 'auto' in 1.2.\n",
      "  warnings.warn(\n"
     ]
    },
    {
     "name": "stdout",
     "output_type": "stream",
     "text": [
      "[t-SNE] Computed neighbors for 1000 samples in 0.069s...\n",
      "[t-SNE] Computed conditional probabilities for sample 1000 / 1000\n",
      "[t-SNE] Mean sigma: 2.053075\n",
      "[t-SNE] KL divergence after 250 iterations with early exaggeration: 67.288849\n",
      "[t-SNE] KL divergence after 1000 iterations: 0.987678\n"
     ]
    },
    {
     "data": {
      "image/png": "[encoded data removed]",
      "text/plain": [
       "<Figure size 432x288 with 1 Axes>"
      ]
     },
     "metadata": {
      "needs_background": "light"
     },
     "output_type": "display_data"
    }
   ],
   "source": [
    "# write your code here\n",
    "from sklearn.manifold import TSNE\n",
    "tsne = TSNE(n_components=2, verbose=1, perplexity=25, random_state=0)\n",
    "x_train_tsne2d = tsne.fit_transform(x_train_small.reshape(1000,-1))\n",
    "plt.scatter(x_train_tsne2d[:, 0], x_train_tsne2d[:, 1], c=y_train_small)\n",
    "plt.title('784 Dimensional Raw Features')\n",
    "plt.show()\n",
    "tsne1 = TSNE(n_components=2, verbose=1, perplexity=25, random_state=0)\n",
    "bottleneck_tsne2d = tsne1.fit_transform(x_train_small_bottleneck_representation)\n",
    "plt.scatter(bottleneck_tsne2d[:, 0], bottleneck_tsne2d[:, 1], c=y_train_small)\n",
    "plt.title('84 Dimensional Bottlebeck Features')\n",
    "plt.show()"
   ]
  },
  {
   "cell_type": "markdown",
   "metadata": {
    "id": "p1obmiUNBCxO"
   },
   "source": [
    "**(c) [16 points]** We now evaluate on test data and compare several different classifiers. Train **5-NN** and **random forest** classifiers with **784 (=28$\\times$28) raw features** and, separately, the **84 bottleneck features** from **all training data**, respectively. That means you should train 4 models in total:\n",
    "\n",
    "1. 5-NN classifier trained on all raw training features\n",
    "2. 5-NN classifier trained on all training bottleneck features\n",
    "3. Random forest trained on all raw training features (for reproducibility of code, please use arguments `n_estimators=100, random_state=0` for `RandomForestClassifier`)\n",
    "4. Random forest trained on all training bottleneck features (again, use `n_estimators=100, random_state=0`)\n",
    "\n",
    "Test each model with corresponding **test dataset** and print the test accuracy. Also, compute and print the test accuracy of the **pre-trained convnet** (`convnet`) by using **test data**. You may think of this task as filling in the blanks of the following table with test accuracy results.\n",
    "\n",
    "| Model type       | Raw features        | Bottleneck features  |\n",
    "|:---------------- |:-------------------:|:--------------------:|\n",
    "| Pretrained CNN   | 0.8910              | this cell stays empty|\n",
    "| 5-NN             | 0.8560              | 0.8880               |\n",
    "| Random forest    | 0.8765              | 0.8980               |\n",
    "\n",
    "Important: the pre-trained convnet is for all 10 classes; only look at the probabilities corresponding to pullovers (class 2) and shirts (class 6), and take an argmax only over these two class probabilities to come up with predictions stricted to pullovers or shirts."
   ]
  },
  {
   "cell_type": "code",
   "execution_count": 61,
   "metadata": {
    "colab": {
     "base_uri": "https://localhost:8080/"
    },
    "id": "WD2wFw2WBCxO",
    "outputId": "69d4a783-fc42-4ae1-a65e-53e3d5161b04"
   },
   "outputs": [
    {
     "name": "stdout",
     "output_type": "stream",
     "text": [
      "Test Accuracy of 5-NN on Raw Features: 0.856\n",
      "Test Accuracy of 5-NN on Bottleneck Features: 0.888\n",
      "Test Accuracy of Random Forest on Raw Features: 0.8765\n",
      "Test Accuracy of Random Forest on Bottleneck Features: 0.898\n",
      "Test Accuracy of Pretrained CNN: 0.891\n"
     ]
    }
   ],
   "source": [
    "# write your code here\n",
    "from sklearn.neighbors import KNeighborsClassifier\n",
    "from sklearn.ensemble import RandomForestClassifier\n",
    "\n",
    "x_train_bottleneck_representation = UDA_pytorch_model_transform(intermediate_layer_model, x_train)\n",
    "x_test_bottleneck_representation = UDA_pytorch_model_transform(intermediate_layer_model, x_test)\n",
    "\n",
    "knn_classifier_raw = KNeighborsClassifier(n_neighbors=5)\n",
    "knn_classifier_bn = KNeighborsClassifier(n_neighbors=5)\n",
    "rf_classifier_raw = RandomForestClassifier(n_estimators=100, random_state=0)\n",
    "rf_classifier_bn = RandomForestClassifier(n_estimators=100, random_state=0)\n",
    "\n",
    "\n",
    "knn_classifier_raw.fit(x_train.reshape(x_train.shape[0],-1), y_train)\n",
    "predicted_knn_raw = knn_classifier_raw.predict(x_test.reshape(x_test.shape[0],-1))\n",
    "knn_raw_acc = sum(predicted_knn_raw==np.array(y_test)) / y_test.shape[0]\n",
    "print('Test Accuracy of 5-NN on Raw Features:', knn_raw_acc)\n",
    "\n",
    "\n",
    "knn_classifier_bn.fit(x_train_bottleneck_representation, y_train)\n",
    "predicted_knn_bn = knn_classifier_bn.predict(x_test_bottleneck_representation)\n",
    "knn_bn_acc = sum(predicted_knn_bn==np.array(y_test)) / y_test.shape[0]\n",
    "print('Test Accuracy of 5-NN on Bottleneck Features:', knn_bn_acc)\n",
    "\n",
    "\n",
    "rf_classifier_raw.fit(x_train.reshape(x_train.shape[0],-1), y_train)\n",
    "predicted_rf_raw = rf_classifier_raw.predict(x_test.reshape(x_test.shape[0],-1))\n",
    "rf_raw_acc = sum(predicted_rf_raw==np.array(y_test)) / y_test.shape[0]\n",
    "print('Test Accuracy of Random Forest on Raw Features:', rf_raw_acc)\n",
    "\n",
    "\n",
    "rf_classifier_bn.fit(x_train_bottleneck_representation, y_train)\n",
    "predicted_rf_bn = rf_classifier_bn.predict(x_test_bottleneck_representation)\n",
    "rf_bn_acc = sum(predicted_rf_bn==np.array(y_test)) / y_test.shape[0]\n",
    "print('Test Accuracy of Random Forest on Bottleneck Features:', rf_bn_acc)\n",
    "\n",
    "predicted_cnn = np.argmax(np.array(UDA_pytorch_model_transform(convnet, x_test)[:, (2,6)]), axis=1) \n",
    "cnn_acc = sum(predicted_cnn==np.array(y_test)) / y_test.shape[0]\n",
    "print('Test Accuracy of Pretrained CNN:', cnn_acc)\n",
    "\n"
   ]
  },
  {
   "cell_type": "markdown",
   "metadata": {
    "id": "HHS5QNLwBCxO"
   },
   "source": [
    "Among the five models above, which model performed the best? Which model showed the lowest accuracy? For the 5-NN and random forest classifiers, is the prediction accuracy higher using bottleneck features instead of the raw features?"
   ]
  },
  {
   "cell_type": "markdown",
   "metadata": {
    "id": "XORfTbzaBCxO"
   },
   "source": [
    "**Write your answers here:**\n",
    "\n",
    "Random Forest trained on bottleneck features performs the best. 5-NN trained on raw features showed the lowest accuracy. \n",
    "\n",
    "The prediction accuracy is higher using bottleneck features instead of raw features for the 5-NN and random forest classifiers.\n",
    "\n"
   ]
  },
  {
   "cell_type": "markdown",
   "metadata": {
    "id": "1fZ7J-V6BCxO"
   },
   "source": [
    "**(d) [10 points]** We now look at plotting an ROC curve, varying $k$ in $k$-NN. Train k-NN classifiers with $k=1,2,...,50$ with **bottleneck** feature vectors of all **training** data. As a result, you will get 50 classifiers. Draw a scatter plot that has false positive rate (FPR) on x-axis and true positive rate (TPR) on y-axis. Each scatter point represents one k-NN classifier. Use the **test** data to compute FPR and TPR.\n",
    "\n",
    "Recall that true and false positive rate calculations require you to specify one of the two outcomes as the \"positive\" class and the other as the \"negative\" class. For this problem, use class 6 (shirts) as the \"positive\" class, and class 2 (pullovers) as the \"negative\" class."
   ]
  },
  {
   "cell_type": "code",
   "execution_count": 64,
   "metadata": {
    "colab": {
     "base_uri": "https://localhost:8080/",
     "height": 312
    },
    "id": "5vGQGCQlBCxO",
    "outputId": "945ca14b-8a28-4c0d-87ee-5ffc0abfddb9"
   },
   "outputs": [
    {
     "data": {
      "text/plain": [
       "Text(0, 0.5, 'TPR')"
      ]
     },
     "execution_count": 64,
     "metadata": {},
     "output_type": "execute_result"
    },
    {
     "data": {
      "image/png": "[encoded data removed]",
      "text/plain": [
       "<Figure size 432x288 with 1 Axes>"
      ]
     },
     "metadata": {
      "needs_background": "light"
     },
     "output_type": "display_data"
    }
   ],
   "source": [
    "# write your code here\n",
    "TPR = []\n",
    "FPR = []\n",
    "\n",
    "for k in range(1,51):\n",
    "    knn_classifier = KNeighborsClassifier(n_neighbors=k)\n",
    "    knn_classifier.fit(x_train_bottleneck_representation, y_train)\n",
    "    predicted_labels = knn_classifier.predict(x_test_bottleneck_representation)\n",
    "    TPR.append(predicted_labels[y_test==1].mean()) \n",
    "    FPR.append(predicted_labels[y_test==0].mean())\n",
    "\n",
    "plt.scatter(FPR, TPR)\n",
    "plt.title('ROC Curve of K-NN')\n",
    "plt.xlabel('FPR')\n",
    "plt.ylabel('TPR')\n",
    "\n"
   ]
  },
  {
   "cell_type": "markdown",
   "metadata": {
    "id": "Wqohec9lBCxO"
   },
   "source": [
    "Suppose you work for a company that wants to figure out when a shirt appears among photos that have either shirts or pullovers. The company tells you that it cannot tolerate a false positive rate of detecting shirts that is more than 12.5%. What value of number of nearest neighbors $k$ achieves the highest true positive rate, but doesn't have more than a 12.5% false positive rate?"
   ]
  },
  {
   "cell_type": "markdown",
   "metadata": {
    "id": "0YfC538lBCxO"
   },
   "source": [
    "**Write your answer here:**\n",
    "\n",
    "The best value of number of nearest neighbors k that achieves the highest true positive rate but does not have more than 12.5% false positive rate is 11.\n",
    "\n"
   ]
  },
  {
   "cell_type": "code",
   "execution_count": 65,
   "metadata": {
    "colab": {
     "base_uri": "https://localhost:8080/"
    },
    "id": "bF1RuRHlBCxO",
    "outputId": "ade75f77-1bde-45d1-d0c3-53d7ad3e0406"
   },
   "outputs": [
    {
     "name": "stdout",
     "output_type": "stream",
     "text": [
      "11\n"
     ]
    }
   ],
   "source": [
    "# write your code here (if it helps you justify your answer above)\n",
    "best_k=None\n",
    "best_TPR = -np.inf\n",
    "\n",
    "for k in range(0,50):\n",
    "    if FPR[k] <=0.125:\n",
    "        if TPR[k] > best_TPR:\n",
    "            best_TPR = TPR[k]\n",
    "            best_k = k + 1\n",
    "print(best_k)\n"
   ]
  },
  {
   "cell_type": "markdown",
   "metadata": {
    "id": "-dc04s4yBCxO"
   },
   "source": [
    "# Part 3: Sentiment Analysis [35 points]\n",
    "\n",
    "Download data from: http://www.andrew.cmu.edu/user/georgech/HW3-data.zip <br>\n",
    "\n",
    "The folder contains:\n",
    "\n",
    "- `train.csv`\n",
    "- `test.csv`\n",
    "\n",
    "In this problem, we look at predicting whether a tweet has positive or negative sentiment.\n",
    "\n",
    "**We intentionally wrote this problem to be a bit open-ended to let you play with different neural net code yourself and also for you to compare against a classical baseline.** We will give full credit even if you subsample the training data. For example, you only work with 5000 randomly chosen training tweets instead of all of them (over 1 million tweets). Also, for the random forest part (the last part), you can keep track of only the most frequently occurring 1000 words (again, this is enough for full credit) and you can also set the RandomForestClassifier argument \"n_jobs\" to -1 to use all your CPU threads. However, do not subsample the test dataset (which is small anyways).\n",
    "\n",
    "If you want to have practice with what it's like working with a sizable dataset though, we do encourage you to try to use as much of the training data as possible (our solution code uses the full training data in an 80-20 split between a proper training set and a validation set, just like in lectures). Note that using all the data does involve more careful data preprocessing to avoid possible memory issues. Some suggestions:\n",
    "\n",
    "- Using your knowledge from weeks 1 and 2, you can write your own code to tokenize tweets and only include some of the tokens (e.g., only keeping the most common 1000 tokens, etc); in particular you can build your own vocabulary. As a suggestion, make vocabulary token \\#0 correspond to a special padding character `\"<pad>\"`; this special index 0 will in fact be automatically added by the batching process for recurrent neural nets when making different tweets within the same batch have the same length. As another suggestion, make a special vocabulary token `\"<unk>\"` for unknown tokens that you've decided not to keep track of. For example, if you only keep track of the most common 1000 tokens, then any token that is not one of these most common 1000 gets represented as `\"<unk>\"`.\n",
    "\n",
    "- For the last part, training a random forest for sentiment analysis could be very computationally expensive. If you are already subsampling the training data beforehand, then great, just work with a smaller dataset (note: you should use the same training data for both the LSTM and for the random forest so that the comparison between them is fair). If you want to still try to use the full training dataset or as much of it as possible, then we suggest that you represent the feature vectors as a sparse matrix. You might also want to set the \"max_samples\" argument to be something like 0.1 so that each tree uses a 10% subsample of the proper training set (with the default choice of 100 trees, across all your trees, you will likely use the vast majority of the full training set---it's just that each tree won't look at more than 10% of the proper training set). Also, simple data splitting suffices; cross-validation here would be very expensive. Moreover, it's fine to not train a random forest from scratch using the best hyperparameters found; instead just use whichever model was trained using the proper training data with the best hyperparameters found."
   ]
  },
  {
   "cell_type": "markdown",
   "metadata": {
    "id": "nH1EHN5CBCxO"
   },
   "source": [
    "**(a) [5 points]** We first read in the tweet data. Read the data present in `train.csv` file. **Please do not change the filename. In particular, use a relative path, i.e., `./HW3-data/train.csv`**. Then do the following:\n",
    "\n",
    "1. Keep only the sentiment and sentiment text in the data - the first and the last coumn\n",
    "2. Print the number of positive and negative sentiment labels\n",
    "\n",
    "Note: If you are using `open()`, you may have to set `encoding='iso8859'`."
   ]
  },
  {
   "cell_type": "code",
   "execution_count": 2,
   "metadata": {
    "colab": {
     "base_uri": "https://localhost:8080/"
    },
    "id": "Xo3bC1_1BCxO",
    "outputId": "9fd021d1-37a3-4ef1-b291-64578a7d5d7d"
   },
   "outputs": [
    {
     "name": "stdout",
     "output_type": "stream",
     "text": [
      "Positive Sentiment Labels#: 800000, Negative Sentiment Labels#: 800000\n"
     ]
    }
   ],
   "source": [
    "# your code here\n",
    "import csv\n",
    "train_dataset = []\n",
    "with open('./HW3-data/train.csv', encoding = 'iso8859') as csvfile:\n",
    "    reader = csv.reader(csvfile)\n",
    "    for line in reader:\n",
    "        train_dataset.append((line[-1], int(line[0])))\n",
    "        \n",
    "positive = sum([label==1 for text,label in train_dataset])\n",
    "print('Positive Sentiment Labels#: {}, Negative Sentiment Labels#: {}'.format(positive, len(train_dataset)-positive))"
   ]
  },
  {
   "cell_type": "markdown",
   "metadata": {
    "id": "tITE7hzcBCxP"
   },
   "source": [
    "**(b) [20 points]** Modify the LSTM demo code from lecture to work with this Twitter dataset. Play with the learning rate and batch size so that the training gives reasonable increases in training and validation accuracies as we progress through epochs (leave the number of epochs at 10). Also feel free to try different neural net architectures (although you do not have to). What test accuracy are you able to achieve?"
   ]
  },
  {
   "cell_type": "code",
   "execution_count": null,
   "metadata": {
    "colab": {
     "base_uri": "https://localhost:8080/",
     "height": 678
    },
    "id": "veTzMaqGd_ur",
    "outputId": "52dde8f3-3d40-42fc-8770-d792a7ea8e2e"
   },
   "outputs": [
    {
     "name": "stderr",
     "output_type": "stream",
     "text": [
      "\r",
      "  0%|          | 0/10 [00:00<?, ?it/s]"
     ]
    },
    {
     "name": "stdout",
     "output_type": "stream",
     "text": [
      "  Train accuracy: 0.6624\n",
      "  Validation accuracy: 0.6675\n"
     ]
    },
    {
     "name": "stderr",
     "output_type": "stream",
     "text": [
      "\r",
      " 10%|█         | 1/10 [00:06<01:00,  6.76s/it]"
     ]
    },
    {
     "name": "stdout",
     "output_type": "stream",
     "text": [
      "  Train accuracy: 0.7014\n",
      "  Validation accuracy: 0.6785\n"
     ]
    },
    {
     "name": "stderr",
     "output_type": "stream",
     "text": [
      "\r",
      " 20%|██        | 2/10 [00:14<00:58,  7.27s/it]"
     ]
    },
    {
     "name": "stdout",
     "output_type": "stream",
     "text": [
      "  Train accuracy: 0.7530\n",
      "  Validation accuracy: 0.7290\n"
     ]
    },
    {
     "name": "stderr",
     "output_type": "stream",
     "text": [
      "\r",
      " 30%|███       | 3/10 [00:21<00:49,  7.00s/it]"
     ]
    },
    {
     "name": "stdout",
     "output_type": "stream",
     "text": [
      "  Train accuracy: 0.7794\n",
      "  Validation accuracy: 0.7270\n"
     ]
    },
    {
     "name": "stderr",
     "output_type": "stream",
     "text": [
      "\r",
      " 40%|████      | 4/10 [00:27<00:40,  6.83s/it]"
     ]
    },
    {
     "name": "stdout",
     "output_type": "stream",
     "text": [
      "  Train accuracy: 0.8081\n",
      "  Validation accuracy: 0.7310\n"
     ]
    },
    {
     "name": "stderr",
     "output_type": "stream",
     "text": [
      "\r",
      " 50%|█████     | 5/10 [00:34<00:34,  6.80s/it]"
     ]
    },
    {
     "name": "stdout",
     "output_type": "stream",
     "text": [
      "  Train accuracy: 0.8380\n",
      "  Validation accuracy: 0.7425\n"
     ]
    },
    {
     "name": "stderr",
     "output_type": "stream",
     "text": [
      "\r",
      " 60%|██████    | 6/10 [00:41<00:28,  7.03s/it]"
     ]
    },
    {
     "name": "stdout",
     "output_type": "stream",
     "text": [
      "  Train accuracy: 0.8698\n",
      "  Validation accuracy: 0.7250\n"
     ]
    },
    {
     "name": "stderr",
     "output_type": "stream",
     "text": [
      "\r",
      " 70%|███████   | 7/10 [00:48<00:20,  6.90s/it]"
     ]
    },
    {
     "name": "stdout",
     "output_type": "stream",
     "text": [
      "  Train accuracy: 0.8766\n",
      "  Validation accuracy: 0.7275\n"
     ]
    },
    {
     "name": "stderr",
     "output_type": "stream",
     "text": [
      "\r",
      " 80%|████████  | 8/10 [00:55<00:13,  6.78s/it]"
     ]
    },
    {
     "name": "stdout",
     "output_type": "stream",
     "text": [
      "  Train accuracy: 0.8989\n",
      "  Validation accuracy: 0.7330\n"
     ]
    },
    {
     "name": "stderr",
     "output_type": "stream",
     "text": [
      "\r",
      " 90%|█████████ | 9/10 [01:02<00:06,  6.97s/it]"
     ]
    },
    {
     "name": "stdout",
     "output_type": "stream",
     "text": [
      "  Train accuracy: 0.9120\n",
      "  Validation accuracy: 0.7155\n"
     ]
    },
    {
     "name": "stderr",
     "output_type": "stream",
     "text": [
      "100%|██████████| 10/10 [01:09<00:00,  6.91s/it]"
     ]
    },
    {
     "name": "stdout",
     "output_type": "stream",
     "text": [
      "\n",
      "Test accuracy: 0.642570281124498\n"
     ]
    },
    {
     "name": "stderr",
     "output_type": "stream",
     "text": [
      "\n"
     ]
    },
    {
     "data": {
      "image/png": "[encoded data removed]",
      "text/plain": [
       "<Figure size 432x288 with 1 Axes>"
      ]
     },
     "metadata": {
      "needs_background": "light"
     },
     "output_type": "display_data"
    }
   ],
   "source": [
    "# your code here\n",
    "from torchtext.data import get_tokenizer\n",
    "from torchtext.vocab import build_vocab_from_iterator\n",
    "from UDA_pytorch_utils import UDA_pytorch_classifier_fit, \\\n",
    "    UDA_plot_train_val_accuracy_vs_epoch, UDA_pytorch_classifier_predict, \\\n",
    "    UDA_compute_accuracy, UDA_get_rnn_last_time_step_outputs\n",
    "from torchtext.vocab import GloVe\n",
    "import torch\n",
    "import torch.nn as nn\n",
    "\n",
    "# randomly draw 10000 samples\n",
    "tokenizer = get_tokenizer('spacy', language='en_core_web_sm')\n",
    "random_sample = np.random.permutation(len(train_dataset))[:10000]\n",
    "train_subsample = np.array(train_dataset)[random_sample]\n",
    "\n",
    "# split train and validation set\n",
    "proper_train_size = int(len(train_subsample) * 0.8)\n",
    "val_size = len(train_subsample) - proper_train_size\n",
    "proper_train_dataset, val_dataset = torch.utils.data.random_split(train_subsample,\n",
    "                                                                  [proper_train_size,\n",
    "                                                                   val_size])\n",
    "\n",
    "# encode the train and validation set\n",
    "proper_train_dataset_as_tokens = [tokenizer(str(text)) for text,label in proper_train_dataset]\n",
    "vocab = build_vocab_from_iterator(proper_train_dataset_as_tokens, specials=[\"<unk>\"])\n",
    "vocab.set_default_index(vocab[\"<unk>\"])\n",
    "proper_train_encoded = [vocab(tokens) for tokens in proper_train_dataset_as_tokens]\n",
    "proper_train_labels = [int(label) for text, label in proper_train_dataset]\n",
    "proper_train_dataset_encoded = list(zip(proper_train_encoded, proper_train_labels))\n",
    "val_encoded = [vocab(tokenizer(str(text))) for text, label in val_dataset]\n",
    "val_labels = [int(label) for text, label in val_dataset]\n",
    "val_dataset_encoded = list(zip(val_encoded, val_labels))\n",
    "\n",
    "# get word embedding for vocabulary\n",
    "pretrained_embedding = GloVe(name='6B', dim=100)\n",
    "embedding_matrix = torch.zeros(len(vocab), pretrained_embedding.dim)\n",
    "for i, token in enumerate(vocab.lookup_tokens(range(len(vocab)))):\n",
    "    embedding_matrix[i] = pretrained_embedding[token]\n",
    "\n",
    "# define the LSTM model in class\n",
    "class EmbeddingLSTMLinearModel(nn.Module):\n",
    "    def __init__(self, embedding_matrix, num_lstm_output_nodes, num_final_output_nodes):\n",
    "        super().__init__()\n",
    "        self.embedding_layer = nn.Embedding.from_pretrained(embedding_matrix)\n",
    "        self.lstm_layer = nn.LSTM(embedding_matrix.shape[1], num_lstm_output_nodes)\n",
    "        self.linear_layer = nn.Linear(num_lstm_output_nodes, num_final_output_nodes)\n",
    "\n",
    "    def forward(self, texts, lengths):\n",
    "        embeddings = self.embedding_layer(texts)\n",
    "        rnn_last_time_step_outputs = \\\n",
    "            UDA_get_rnn_last_time_step_outputs(embeddings, lengths, self.lstm_layer)\n",
    "        return self.linear_layer(rnn_last_time_step_outputs)\n",
    "\n",
    "simple_lstm_model = EmbeddingLSTMLinearModel(embedding_matrix, 64, 2)\n",
    "\n",
    "# doing parameter tuning and choose batch_size = 256, learning_rate = 0.015\n",
    "num_epochs = 10 \n",
    "batch_size = 256 \n",
    "learning_rate = 0.015\n",
    "\n",
    "train_accuracies, val_accuracies = \\\n",
    "    UDA_pytorch_classifier_fit(simple_lstm_model,\n",
    "                               torch.optim.Adam(simple_lstm_model.parameters(),\n",
    "                                                lr=learning_rate),\n",
    "                               nn.CrossEntropyLoss(), \n",
    "                               proper_train_dataset_encoded, val_dataset_encoded,\n",
    "                               num_epochs, batch_size,\n",
    "                               rnn=True)\n",
    "\n",
    "# plot the train and validation accuracy through epochs\n",
    "UDA_plot_train_val_accuracy_vs_epoch(train_accuracies, val_accuracies)\n",
    "\n",
    "# test accuracy\n",
    "test_dataset = []\n",
    "with open('./HW3-data/test.csv', encoding = 'iso8859') as csvfile:\n",
    "    reader = csv.reader(csvfile)\n",
    "    for line in reader:\n",
    "        test_dataset.append((line[-1], int(line[0])))\n",
    "\n",
    "test_encoded = [vocab(tokenizer(text)) for text, label in test_dataset]\n",
    "test_labels = [label for text, label in test_dataset]\n",
    "\n",
    "predicted_test_labels = UDA_pytorch_classifier_predict(simple_lstm_model,\n",
    "                                                       test_encoded,\n",
    "                                                       rnn=True)\n",
    "\n",
    "# able to achieve test accuracy of 0.6426 for this simple model\n",
    "print()\n",
    "print('Test accuracy:', UDA_compute_accuracy(predicted_test_labels, test_labels))"
   ]
  },
  {
   "cell_type": "markdown",
   "metadata": {
    "id": "3JFuyodJBCxP"
   },
   "source": [
    "**(c) [10 points]** How well does an LSTM compare with using a classical classifier? To investigate this question, let's try training a random forest for sentiment analysis. Your code from part **(b)** should involve coming up with encoded representations of text, i.e., representing a tweet using a sequence of word indices. Use this to come up with a term frequency representation for each tweet. Feel free to remove stop words and/or apply TF-IDF weighting, and then feed the resulting feature vector representations for tweets to a random forest classifier. You can use cross-validation to select hyperparameters. Try to make the random forest classifier perform as well as possible (it is good practice in real-world applications to try to make baselines as good as possible rather than intentionally using a baseline with lousy hyperparameter choices; in particular, it is *bad* practice to tune hyperparameters carefully only on a method you're proposing while not tuning hyperparameters on baselines!). What test set accuracy are you able to achieve with the random forest?"
   ]
  },
  {
   "cell_type": "code",
   "execution_count": 40,
   "metadata": {
    "id": "BFc5OginBCxP"
   },
   "outputs": [],
   "source": [
    "# your code here\n",
    "from sklearn.feature_extraction.text import CountVectorizer\n",
    "from sklearn.model_selection import KFold\n",
    "\n",
    "#remove stop words\n",
    "stopwords = [line.rstrip() for line in open('./HW3-data/stopwords.txt','r').readlines()]\n",
    "\n",
    "# term frequency representation for each tweet\n",
    "vectorizer = CountVectorizer(min_df=5, stop_words=stopwords, max_df=0.8)\n",
    "train_rf = vectorizer.fit_transform(train_subsample[:, 0]).toarray()\n",
    "train_labels = [int(label) for label in train_subsample[:, 1]] "
   ]
  },
  {
   "cell_type": "code",
   "execution_count": 22,
   "metadata": {
    "colab": {
     "base_uri": "https://localhost:8080/"
    },
    "id": "fLUxxKVhwlIy",
    "outputId": "507a4253-b09a-4d94-df89-5647763bcb2e"
   },
   "outputs": [
    {
     "name": "stdout",
     "output_type": "stream",
     "text": [
      "Hyperparameter: (12, 1) cross validation error: 0.2966\n",
      "Hyperparameter: (12, 2) cross validation error: 0.2827\n",
      "Hyperparameter: (12, 4) cross validation error: 0.28839999999999993\n",
      "Hyperparameter: (12, 8) cross validation error: 0.31470000000000004\n",
      "Hyperparameter: (12, 16) cross validation error: 0.3926\n",
      "Hyperparameter: (45, 1) cross validation error: 0.3033\n",
      "Hyperparameter: (45, 2) cross validation error: 0.29300000000000004\n",
      "Hyperparameter: (45, 4) cross validation error: 0.3008\n",
      "Hyperparameter: (45, 8) cross validation error: 0.309\n",
      "Hyperparameter: (45, 16) cross validation error: 0.32300000000000006\n",
      "Hyperparameter: (178, 1) cross validation error: 0.3061\n",
      "Hyperparameter: (178, 2) cross validation error: 0.29640000000000005\n",
      "Hyperparameter: (178, 4) cross validation error: 0.30589999999999995\n",
      "Hyperparameter: (178, 8) cross validation error: 0.3155\n",
      "Hyperparameter: (178, 16) cross validation error: 0.3297\n",
      "Best hyperparameter: (12, 2) cross validation error: 0.2827\n"
     ]
    }
   ],
   "source": [
    "# use cross validation to select parameters that give lowest validation error\n",
    "# best parameter:  max_features = 12, min_samples_leaf =2\n",
    "from sklearn.ensemble import RandomForestClassifier\n",
    "\n",
    "lowest_cross_val_error = np.inf\n",
    "best_hyperparameter_setting = None\n",
    "\n",
    "num_features = train_rf.shape[1]\n",
    "hyperparameter_settings = [(max_features, min_samples_leaf)\n",
    "                           for max_features in [int(np.ceil(np.sqrt(num_features) / 4)),\n",
    "                                                int(np.ceil(np.sqrt(num_features))),\n",
    "                                                int(np.ceil(np.sqrt(num_features) * 4))]\n",
    "                           for min_samples_leaf in [1, 2, 4, 8, 16]]\n",
    "\n",
    "kf = KFold(n_splits=5, shuffle=True, random_state=0)\n",
    "\n",
    "for hyperparameter_setting in hyperparameter_settings:\n",
    "    max_features, min_samples_leaf = hyperparameter_setting\n",
    "    errors = []\n",
    "    for proper_train_indices, val_indices in kf.split(train_rf):\n",
    "        proper_train_features = train_rf[proper_train_indices]\n",
    "        proper_train_labels = train_labels[proper_train_indices]\n",
    "        val_features = train_rf[val_indices]\n",
    "        val_labels = train_labels[val_indices]\n",
    "        \n",
    "        classifier = RandomForestClassifier(max_features=max_features,\n",
    "                                            min_samples_leaf=min_samples_leaf,\n",
    "                                            random_state=0)\n",
    "        classifier.fit(proper_train_features, proper_train_labels)\n",
    "        predicted_val_labels = classifier.predict(val_features)\n",
    "        error = np.mean(predicted_val_labels != val_labels)\n",
    "        errors.append(error)\n",
    "        \n",
    "    cross_val_error = np.mean(errors)\n",
    "    print('Hyperparameter:', hyperparameter_setting, 'cross validation error:', cross_val_error)\n",
    "\n",
    "    if cross_val_error < lowest_cross_val_error:\n",
    "        lowest_cross_val_error = cross_val_error\n",
    "        best_hyperparameter_setting = hyperparameter_setting\n",
    "\n",
    "print('Best hyperparameter:', best_hyperparameter_setting, 'cross validation error:', lowest_cross_val_error)"
   ]
  },
  {
   "cell_type": "code",
   "execution_count": 41,
   "metadata": {
    "colab": {
     "base_uri": "https://localhost:8080/"
    },
    "id": "QZkt9Oy8zSfk",
    "outputId": "2aabb6d8-2954-49f0-a2fb-d0756728016f"
   },
   "outputs": [
    {
     "name": "stdout",
     "output_type": "stream",
     "text": [
      "Test accuracy: 0.5783132530120482\n"
     ]
    }
   ],
   "source": [
    "# compute test accuracy with the best parameters found\n",
    "# test accuracy is 0.5783, which is lower than LSTM model\n",
    "test_dataset = []\n",
    "with open('./HW3-data/test.csv', encoding = 'iso8859') as csvfile:\n",
    "    reader = csv.reader(csvfile)\n",
    "    for line in reader:\n",
    "        test_dataset.append((line[-1], int(line[0])))\n",
    "\n",
    "test_rf = vectorizer.transform(np.array(test_dataset)[:, 0]).toarray()\n",
    "test_labels = [int(label) for label in np.array(test_dataset)[:, 1]]\n",
    "\n",
    "best_max_features, best_min_samples_split = best_hyperparameter_setting\n",
    "final_rf_classifier = RandomForestClassifier(max_features=best_max_features,\n",
    "                                             min_samples_leaf=best_min_samples_split,\n",
    "                                             random_state=0)\n",
    "final_rf_classifier.fit(train_rf, train_labels)\n",
    "predicted_test_labels = final_rf_classifier.predict(test_rf)\n",
    "test_set_accuracy = UDA_compute_accuracy(predicted_test_labels,test_labels)\n",
    "print('Test accuracy:', test_set_accuracy)"
   ]
  }
 ],
 "metadata": {
  "colab": {
   "provenance": []
  },
  "kernelspec": {
   "display_name": "Python 3 (ipykernel)",
   "language": "python",
   "name": "python3"
  },
  "language_info": {
   "codemirror_mode": {
    "name": "ipython",
    "version": 3
   },
   "file_extension": ".py",
   "mimetype": "text/x-python",
   "name": "python",
   "nbconvert_exporter": "python",
   "pygments_lexer": "ipython3",
   "version": "3.9.12"
  },
  "widgets": {
   "application/vnd.jupyter.widget-state+json": {
    "00b339e6192443ddb5c72fe1f03ba2d0": {
     "model_module": "@jupyter-widgets/controls",
     "model_module_version": "1.5.0",
     "model_name": "HTMLModel",
     "state": {
      "_dom_classes": [],
      "_model_module": "@jupyter-widgets/controls",
      "_model_module_version": "1.5.0",
      "_model_name": "HTMLModel",
      "_view_count": null,
      "_view_module": "@jupyter-widgets/controls",
      "_view_module_version": "1.5.0",
      "_view_name": "HTMLView",
      "description": "",
      "description_tooltip": null,
      "layout": "IPY_MODEL_d33ec81f61734626b8aac68ca1319ea9",
      "placeholder": "​",
      "style": "IPY_MODEL_45e3ff588c054f129072db88f6b39fce",
      "value": " 5148/5148 [00:00&lt;00:00, 42778.84it/s]"
     }
    },
    "03cc2e3a869440768253c43139e31d75": {
     "model_module": "@jupyter-widgets/controls",
     "model_module_version": "1.5.0",
     "model_name": "HBoxModel",
     "state": {
      "_dom_classes": [],
      "_model_module": "@jupyter-widgets/controls",
      "_model_module_version": "1.5.0",
      "_model_name": "HBoxModel",
      "_view_count": null,
      "_view_module": "@jupyter-widgets/controls",
      "_view_module_version": "1.5.0",
      "_view_name": "HBoxView",
      "box_style": "",
      "children": [
       "IPY_MODEL_847ef8007492419daeb0226063b55fe7",
       "IPY_MODEL_b03c8d26c84b43e79b96af17b468b929",
       "IPY_MODEL_00b339e6192443ddb5c72fe1f03ba2d0"
      ],
      "layout": "IPY_MODEL_d669ffce7e8a417dadc1781a782c33e4"
     }
    },
    "045a8d9f9b8c41278f522b272c26cc0f": {
     "model_module": "@jupyter-widgets/controls",
     "model_module_version": "1.5.0",
     "model_name": "DescriptionStyleModel",
     "state": {
      "_model_module": "@jupyter-widgets/controls",
      "_model_module_version": "1.5.0",
      "_model_name": "DescriptionStyleModel",
      "_view_count": null,
      "_view_module": "@jupyter-widgets/base",
      "_view_module_version": "1.2.0",
      "_view_name": "StyleView",
      "description_width": ""
     }
    },
    "0b26a16b9fec4bc98181d71f1f1240f1": {
     "model_module": "@jupyter-widgets/controls",
     "model_module_version": "1.5.0",
     "model_name": "FloatProgressModel",
     "state": {
      "_dom_classes": [],
      "_model_module": "@jupyter-widgets/controls",
      "_model_module_version": "1.5.0",
      "_model_name": "FloatProgressModel",
      "_view_count": null,
      "_view_module": "@jupyter-widgets/controls",
      "_view_module_version": "1.5.0",
      "_view_name": "ProgressView",
      "bar_style": "success",
      "description": "",
      "description_tooltip": null,
      "layout": "IPY_MODEL_a0ac3d742241484382ab4af7a1b2928b",
      "max": 4422102,
      "min": 0,
      "orientation": "horizontal",
      "style": "IPY_MODEL_b0b1c684729f423597e8dd8be2d926b9",
      "value": 4422102
     }
    },
    "0c60a19cb9c64119bbf3eeea34dedab5": {
     "model_module": "@jupyter-widgets/controls",
     "model_module_version": "1.5.0",
     "model_name": "DescriptionStyleModel",
     "state": {
      "_model_module": "@jupyter-widgets/controls",
      "_model_module_version": "1.5.0",
      "_model_name": "DescriptionStyleModel",
      "_view_count": null,
      "_view_module": "@jupyter-widgets/base",
      "_view_module_version": "1.2.0",
      "_view_name": "StyleView",
      "description_width": ""
     }
    },
    "1ff730cd29b24483b9301bd40c4b84d6": {
     "model_module": "@jupyter-widgets/base",
     "model_module_version": "1.2.0",
     "model_name": "LayoutModel",
     "state": {
      "_model_module": "@jupyter-widgets/base",
      "_model_module_version": "1.2.0",
      "_model_name": "LayoutModel",
      "_view_count": null,
      "_view_module": "@jupyter-widgets/base",
      "_view_module_version": "1.2.0",
      "_view_name": "LayoutView",
      "align_content": null,
      "align_items": null,
      "align_self": null,
      "border": null,
      "bottom": null,
      "display": null,
      "flex": null,
      "flex_flow": null,
      "grid_area": null,
      "grid_auto_columns": null,
      "grid_auto_flow": null,
      "grid_auto_rows": null,
      "grid_column": null,
      "grid_gap": null,
      "grid_row": null,
      "grid_template_areas": null,
      "grid_template_columns": null,
      "grid_template_rows": null,
      "height": null,
      "justify_content": null,
      "justify_items": null,
      "left": null,
      "margin": null,
      "max_height": null,
      "max_width": null,
      "min_height": null,
      "min_width": null,
      "object_fit": null,
      "object_position": null,
      "order": null,
      "overflow": null,
      "overflow_x": null,
      "overflow_y": null,
      "padding": null,
      "right": null,
      "top": null,
      "visibility": null,
      "width": null
     }
    },
    "1ff8bccbae034f0aa0753fdc9ba7c4e5": {
     "model_module": "@jupyter-widgets/controls",
     "model_module_version": "1.5.0",
     "model_name": "HTMLModel",
     "state": {
      "_dom_classes": [],
      "_model_module": "@jupyter-widgets/controls",
      "_model_module_version": "1.5.0",
      "_model_name": "HTMLModel",
      "_view_count": null,
      "_view_module": "@jupyter-widgets/controls",
      "_view_module_version": "1.5.0",
      "_view_name": "HTMLView",
      "description": "",
      "description_tooltip": null,
      "layout": "IPY_MODEL_c8d01d4c05d54f41b6036dd632292468",
      "placeholder": "​",
      "style": "IPY_MODEL_0c60a19cb9c64119bbf3eeea34dedab5",
      "value": "100%"
     }
    },
    "267f466d3d584c6aa4a2d79dfbf71eac": {
     "model_module": "@jupyter-widgets/controls",
     "model_module_version": "1.5.0",
     "model_name": "ProgressStyleModel",
     "state": {
      "_model_module": "@jupyter-widgets/controls",
      "_model_module_version": "1.5.0",
      "_model_name": "ProgressStyleModel",
      "_view_count": null,
      "_view_module": "@jupyter-widgets/base",
      "_view_module_version": "1.2.0",
      "_view_name": "StyleView",
      "bar_color": null,
      "description_width": ""
     }
    },
    "414e74e484a04165a06d677cb473f968": {
     "model_module": "@jupyter-widgets/base",
     "model_module_version": "1.2.0",
     "model_name": "LayoutModel",
     "state": {
      "_model_module": "@jupyter-widgets/base",
      "_model_module_version": "1.2.0",
      "_model_name": "LayoutModel",
      "_view_count": null,
      "_view_module": "@jupyter-widgets/base",
      "_view_module_version": "1.2.0",
      "_view_name": "LayoutView",
      "align_content": null,
      "align_items": null,
      "align_self": null,
      "border": null,
      "bottom": null,
      "display": null,
      "flex": null,
      "flex_flow": null,
      "grid_area": null,
      "grid_auto_columns": null,
      "grid_auto_flow": null,
      "grid_auto_rows": null,
      "grid_column": null,
      "grid_gap": null,
      "grid_row": null,
      "grid_template_areas": null,
      "grid_template_columns": null,
      "grid_template_rows": null,
      "height": null,
      "justify_content": null,
      "justify_items": null,
      "left": null,
      "margin": null,
      "max_height": null,
      "max_width": null,
      "min_height": null,
      "min_width": null,
      "object_fit": null,
      "object_position": null,
      "order": null,
      "overflow": null,
      "overflow_x": null,
      "overflow_y": null,
      "padding": null,
      "right": null,
      "top": null,
      "visibility": null,
      "width": null
     }
    },
    "44cc7f63f81d43378ec0698ec06c177f": {
     "model_module": "@jupyter-widgets/controls",
     "model_module_version": "1.5.0",
     "model_name": "HTMLModel",
     "state": {
      "_dom_classes": [],
      "_model_module": "@jupyter-widgets/controls",
      "_model_module_version": "1.5.0",
      "_model_name": "HTMLModel",
      "_view_count": null,
      "_view_module": "@jupyter-widgets/controls",
      "_view_module_version": "1.5.0",
      "_view_name": "HTMLView",
      "description": "",
      "description_tooltip": null,
      "layout": "IPY_MODEL_abc0d14673bb4312928c972b12e492e0",
      "placeholder": "​",
      "style": "IPY_MODEL_f1f12cc4d5d34380ad8cb286da9c6385",
      "value": " 29515/29515 [00:00&lt;00:00, 271283.09it/s]"
     }
    },
    "45c1dc39794f4de7864519932b994b8b": {
     "model_module": "@jupyter-widgets/controls",
     "model_module_version": "1.5.0",
     "model_name": "DescriptionStyleModel",
     "state": {
      "_model_module": "@jupyter-widgets/controls",
      "_model_module_version": "1.5.0",
      "_model_name": "DescriptionStyleModel",
      "_view_count": null,
      "_view_module": "@jupyter-widgets/base",
      "_view_module_version": "1.2.0",
      "_view_name": "StyleView",
      "description_width": ""
     }
    },
    "45e3ff588c054f129072db88f6b39fce": {
     "model_module": "@jupyter-widgets/controls",
     "model_module_version": "1.5.0",
     "model_name": "DescriptionStyleModel",
     "state": {
      "_model_module": "@jupyter-widgets/controls",
      "_model_module_version": "1.5.0",
      "_model_name": "DescriptionStyleModel",
      "_view_count": null,
      "_view_module": "@jupyter-widgets/base",
      "_view_module_version": "1.2.0",
      "_view_name": "StyleView",
      "description_width": ""
     }
    },
    "49124ba315d2474caedde313cb73df03": {
     "model_module": "@jupyter-widgets/controls",
     "model_module_version": "1.5.0",
     "model_name": "DescriptionStyleModel",
     "state": {
      "_model_module": "@jupyter-widgets/controls",
      "_model_module_version": "1.5.0",
      "_model_name": "DescriptionStyleModel",
      "_view_count": null,
      "_view_module": "@jupyter-widgets/base",
      "_view_module_version": "1.2.0",
      "_view_name": "StyleView",
      "description_width": ""
     }
    },
    "53dbe9a6319042c2a5b6d561312ada13": {
     "model_module": "@jupyter-widgets/base",
     "model_module_version": "1.2.0",
     "model_name": "LayoutModel",
     "state": {
      "_model_module": "@jupyter-widgets/base",
      "_model_module_version": "1.2.0",
      "_model_name": "LayoutModel",
      "_view_count": null,
      "_view_module": "@jupyter-widgets/base",
      "_view_module_version": "1.2.0",
      "_view_name": "LayoutView",
      "align_content": null,
      "align_items": null,
      "align_self": null,
      "border": null,
      "bottom": null,
      "display": null,
      "flex": null,
      "flex_flow": null,
      "grid_area": null,
      "grid_auto_columns": null,
      "grid_auto_flow": null,
      "grid_auto_rows": null,
      "grid_column": null,
      "grid_gap": null,
      "grid_row": null,
      "grid_template_areas": null,
      "grid_template_columns": null,
      "grid_template_rows": null,
      "height": null,
      "justify_content": null,
      "justify_items": null,
      "left": null,
      "margin": null,
      "max_height": null,
      "max_width": null,
      "min_height": null,
      "min_width": null,
      "object_fit": null,
      "object_position": null,
      "order": null,
      "overflow": null,
      "overflow_x": null,
      "overflow_y": null,
      "padding": null,
      "right": null,
      "top": null,
      "visibility": null,
      "width": null
     }
    },
    "589c206e6adc468580fd78a840f73979": {
     "model_module": "@jupyter-widgets/controls",
     "model_module_version": "1.5.0",
     "model_name": "HTMLModel",
     "state": {
      "_dom_classes": [],
      "_model_module": "@jupyter-widgets/controls",
      "_model_module_version": "1.5.0",
      "_model_name": "HTMLModel",
      "_view_count": null,
      "_view_module": "@jupyter-widgets/controls",
      "_view_module_version": "1.5.0",
      "_view_name": "HTMLView",
      "description": "",
      "description_tooltip": null,
      "layout": "IPY_MODEL_5fe5c5ec90c44a0c9d6d3d6bb0e27ccc",
      "placeholder": "​",
      "style": "IPY_MODEL_666e07b5f4024155a8995c57bcd06d16",
      "value": " 4422102/4422102 [00:00&lt;00:00, 6026221.89it/s]"
     }
    },
    "5d7e46e0b25c41ad82f38de63ad02485": {
     "model_module": "@jupyter-widgets/controls",
     "model_module_version": "1.5.0",
     "model_name": "ProgressStyleModel",
     "state": {
      "_model_module": "@jupyter-widgets/controls",
      "_model_module_version": "1.5.0",
      "_model_name": "ProgressStyleModel",
      "_view_count": null,
      "_view_module": "@jupyter-widgets/base",
      "_view_module_version": "1.2.0",
      "_view_name": "StyleView",
      "bar_color": null,
      "description_width": ""
     }
    },
    "5fe5c5ec90c44a0c9d6d3d6bb0e27ccc": {
     "model_module": "@jupyter-widgets/base",
     "model_module_version": "1.2.0",
     "model_name": "LayoutModel",
     "state": {
      "_model_module": "@jupyter-widgets/base",
      "_model_module_version": "1.2.0",
      "_model_name": "LayoutModel",
      "_view_count": null,
      "_view_module": "@jupyter-widgets/base",
      "_view_module_version": "1.2.0",
      "_view_name": "LayoutView",
      "align_content": null,
      "align_items": null,
      "align_self": null,
      "border": null,
      "bottom": null,
      "display": null,
      "flex": null,
      "flex_flow": null,
      "grid_area": null,
      "grid_auto_columns": null,
      "grid_auto_flow": null,
      "grid_auto_rows": null,
      "grid_column": null,
      "grid_gap": null,
      "grid_row": null,
      "grid_template_areas": null,
      "grid_template_columns": null,
      "grid_template_rows": null,
      "height": null,
      "justify_content": null,
      "justify_items": null,
      "left": null,
      "margin": null,
      "max_height": null,
      "max_width": null,
      "min_height": null,
      "min_width": null,
      "object_fit": null,
      "object_position": null,
      "order": null,
      "overflow": null,
      "overflow_x": null,
      "overflow_y": null,
      "padding": null,
      "right": null,
      "top": null,
      "visibility": null,
      "width": null
     }
    },
    "6062c5d52e554208868a4c833d4ef2c5": {
     "model_module": "@jupyter-widgets/controls",
     "model_module_version": "1.5.0",
     "model_name": "HTMLModel",
     "state": {
      "_dom_classes": [],
      "_model_module": "@jupyter-widgets/controls",
      "_model_module_version": "1.5.0",
      "_model_name": "HTMLModel",
      "_view_count": null,
      "_view_module": "@jupyter-widgets/controls",
      "_view_module_version": "1.5.0",
      "_view_name": "HTMLView",
      "description": "",
      "description_tooltip": null,
      "layout": "IPY_MODEL_d6f4d7014ddf4642aa7d8142c2a19df1",
      "placeholder": "​",
      "style": "IPY_MODEL_812edaa9c45549e59d90e36a4ac8e6da",
      "value": " 26421880/26421880 [00:01&lt;00:00, 25779495.88it/s]"
     }
    },
    "666e07b5f4024155a8995c57bcd06d16": {
     "model_module": "@jupyter-widgets/controls",
     "model_module_version": "1.5.0",
     "model_name": "DescriptionStyleModel",
     "state": {
      "_model_module": "@jupyter-widgets/controls",
      "_model_module_version": "1.5.0",
      "_model_name": "DescriptionStyleModel",
      "_view_count": null,
      "_view_module": "@jupyter-widgets/base",
      "_view_module_version": "1.2.0",
      "_view_name": "StyleView",
      "description_width": ""
     }
    },
    "698ccaa78bab415b909675c18332ef63": {
     "model_module": "@jupyter-widgets/controls",
     "model_module_version": "1.5.0",
     "model_name": "ProgressStyleModel",
     "state": {
      "_model_module": "@jupyter-widgets/controls",
      "_model_module_version": "1.5.0",
      "_model_name": "ProgressStyleModel",
      "_view_count": null,
      "_view_module": "@jupyter-widgets/base",
      "_view_module_version": "1.2.0",
      "_view_name": "StyleView",
      "bar_color": null,
      "description_width": ""
     }
    },
    "6b4e1f602ff74abe9be6658c4bc4c312": {
     "model_module": "@jupyter-widgets/base",
     "model_module_version": "1.2.0",
     "model_name": "LayoutModel",
     "state": {
      "_model_module": "@jupyter-widgets/base",
      "_model_module_version": "1.2.0",
      "_model_name": "LayoutModel",
      "_view_count": null,
      "_view_module": "@jupyter-widgets/base",
      "_view_module_version": "1.2.0",
      "_view_name": "LayoutView",
      "align_content": null,
      "align_items": null,
      "align_self": null,
      "border": null,
      "bottom": null,
      "display": null,
      "flex": null,
      "flex_flow": null,
      "grid_area": null,
      "grid_auto_columns": null,
      "grid_auto_flow": null,
      "grid_auto_rows": null,
      "grid_column": null,
      "grid_gap": null,
      "grid_row": null,
      "grid_template_areas": null,
      "grid_template_columns": null,
      "grid_template_rows": null,
      "height": null,
      "justify_content": null,
      "justify_items": null,
      "left": null,
      "margin": null,
      "max_height": null,
      "max_width": null,
      "min_height": null,
      "min_width": null,
      "object_fit": null,
      "object_position": null,
      "order": null,
      "overflow": null,
      "overflow_x": null,
      "overflow_y": null,
      "padding": null,
      "right": null,
      "top": null,
      "visibility": null,
      "width": null
     }
    },
    "6ce073d3c65441358b4ce1ebbcff798c": {
     "model_module": "@jupyter-widgets/base",
     "model_module_version": "1.2.0",
     "model_name": "LayoutModel",
     "state": {
      "_model_module": "@jupyter-widgets/base",
      "_model_module_version": "1.2.0",
      "_model_name": "LayoutModel",
      "_view_count": null,
      "_view_module": "@jupyter-widgets/base",
      "_view_module_version": "1.2.0",
      "_view_name": "LayoutView",
      "align_content": null,
      "align_items": null,
      "align_self": null,
      "border": null,
      "bottom": null,
      "display": null,
      "flex": null,
      "flex_flow": null,
      "grid_area": null,
      "grid_auto_columns": null,
      "grid_auto_flow": null,
      "grid_auto_rows": null,
      "grid_column": null,
      "grid_gap": null,
      "grid_row": null,
      "grid_template_areas": null,
      "grid_template_columns": null,
      "grid_template_rows": null,
      "height": null,
      "justify_content": null,
      "justify_items": null,
      "left": null,
      "margin": null,
      "max_height": null,
      "max_width": null,
      "min_height": null,
      "min_width": null,
      "object_fit": null,
      "object_position": null,
      "order": null,
      "overflow": null,
      "overflow_x": null,
      "overflow_y": null,
      "padding": null,
      "right": null,
      "top": null,
      "visibility": null,
      "width": null
     }
    },
    "7779396776ca48e895fd5c3fd5c87fe0": {
     "model_module": "@jupyter-widgets/base",
     "model_module_version": "1.2.0",
     "model_name": "LayoutModel",
     "state": {
      "_model_module": "@jupyter-widgets/base",
      "_model_module_version": "1.2.0",
      "_model_name": "LayoutModel",
      "_view_count": null,
      "_view_module": "@jupyter-widgets/base",
      "_view_module_version": "1.2.0",
      "_view_name": "LayoutView",
      "align_content": null,
      "align_items": null,
      "align_self": null,
      "border": null,
      "bottom": null,
      "display": null,
      "flex": null,
      "flex_flow": null,
      "grid_area": null,
      "grid_auto_columns": null,
      "grid_auto_flow": null,
      "grid_auto_rows": null,
      "grid_column": null,
      "grid_gap": null,
      "grid_row": null,
      "grid_template_areas": null,
      "grid_template_columns": null,
      "grid_template_rows": null,
      "height": null,
      "justify_content": null,
      "justify_items": null,
      "left": null,
      "margin": null,
      "max_height": null,
      "max_width": null,
      "min_height": null,
      "min_width": null,
      "object_fit": null,
      "object_position": null,
      "order": null,
      "overflow": null,
      "overflow_x": null,
      "overflow_y": null,
      "padding": null,
      "right": null,
      "top": null,
      "visibility": null,
      "width": null
     }
    },
    "8020c6b7d5ef4d178806458d1ca70313": {
     "model_module": "@jupyter-widgets/controls",
     "model_module_version": "1.5.0",
     "model_name": "HTMLModel",
     "state": {
      "_dom_classes": [],
      "_model_module": "@jupyter-widgets/controls",
      "_model_module_version": "1.5.0",
      "_model_name": "HTMLModel",
      "_view_count": null,
      "_view_module": "@jupyter-widgets/controls",
      "_view_module_version": "1.5.0",
      "_view_name": "HTMLView",
      "description": "",
      "description_tooltip": null,
      "layout": "IPY_MODEL_1ff730cd29b24483b9301bd40c4b84d6",
      "placeholder": "​",
      "style": "IPY_MODEL_49124ba315d2474caedde313cb73df03",
      "value": "100%"
     }
    },
    "812edaa9c45549e59d90e36a4ac8e6da": {
     "model_module": "@jupyter-widgets/controls",
     "model_module_version": "1.5.0",
     "model_name": "DescriptionStyleModel",
     "state": {
      "_model_module": "@jupyter-widgets/controls",
      "_model_module_version": "1.5.0",
      "_model_name": "DescriptionStyleModel",
      "_view_count": null,
      "_view_module": "@jupyter-widgets/base",
      "_view_module_version": "1.2.0",
      "_view_name": "StyleView",
      "description_width": ""
     }
    },
    "847ef8007492419daeb0226063b55fe7": {
     "model_module": "@jupyter-widgets/controls",
     "model_module_version": "1.5.0",
     "model_name": "HTMLModel",
     "state": {
      "_dom_classes": [],
      "_model_module": "@jupyter-widgets/controls",
      "_model_module_version": "1.5.0",
      "_model_name": "HTMLModel",
      "_view_count": null,
      "_view_module": "@jupyter-widgets/controls",
      "_view_module_version": "1.5.0",
      "_view_name": "HTMLView",
      "description": "",
      "description_tooltip": null,
      "layout": "IPY_MODEL_6ce073d3c65441358b4ce1ebbcff798c",
      "placeholder": "​",
      "style": "IPY_MODEL_045a8d9f9b8c41278f522b272c26cc0f",
      "value": "100%"
     }
    },
    "a0ac3d742241484382ab4af7a1b2928b": {
     "model_module": "@jupyter-widgets/base",
     "model_module_version": "1.2.0",
     "model_name": "LayoutModel",
     "state": {
      "_model_module": "@jupyter-widgets/base",
      "_model_module_version": "1.2.0",
      "_model_name": "LayoutModel",
      "_view_count": null,
      "_view_module": "@jupyter-widgets/base",
      "_view_module_version": "1.2.0",
      "_view_name": "LayoutView",
      "align_content": null,
      "align_items": null,
      "align_self": null,
      "border": null,
      "bottom": null,
      "display": null,
      "flex": null,
      "flex_flow": null,
      "grid_area": null,
      "grid_auto_columns": null,
      "grid_auto_flow": null,
      "grid_auto_rows": null,
      "grid_column": null,
      "grid_gap": null,
      "grid_row": null,
      "grid_template_areas": null,
      "grid_template_columns": null,
      "grid_template_rows": null,
      "height": null,
      "justify_content": null,
      "justify_items": null,
      "left": null,
      "margin": null,
      "max_height": null,
      "max_width": null,
      "min_height": null,
      "min_width": null,
      "object_fit": null,
      "object_position": null,
      "order": null,
      "overflow": null,
      "overflow_x": null,
      "overflow_y": null,
      "padding": null,
      "right": null,
      "top": null,
      "visibility": null,
      "width": null
     }
    },
    "aa4663f2da9f4778922e320b004fdbe5": {
     "model_module": "@jupyter-widgets/base",
     "model_module_version": "1.2.0",
     "model_name": "LayoutModel",
     "state": {
      "_model_module": "@jupyter-widgets/base",
      "_model_module_version": "1.2.0",
      "_model_name": "LayoutModel",
      "_view_count": null,
      "_view_module": "@jupyter-widgets/base",
      "_view_module_version": "1.2.0",
      "_view_name": "LayoutView",
      "align_content": null,
      "align_items": null,
      "align_self": null,
      "border": null,
      "bottom": null,
      "display": null,
      "flex": null,
      "flex_flow": null,
      "grid_area": null,
      "grid_auto_columns": null,
      "grid_auto_flow": null,
      "grid_auto_rows": null,
      "grid_column": null,
      "grid_gap": null,
      "grid_row": null,
      "grid_template_areas": null,
      "grid_template_columns": null,
      "grid_template_rows": null,
      "height": null,
      "justify_content": null,
      "justify_items": null,
      "left": null,
      "margin": null,
      "max_height": null,
      "max_width": null,
      "min_height": null,
      "min_width": null,
      "object_fit": null,
      "object_position": null,
      "order": null,
      "overflow": null,
      "overflow_x": null,
      "overflow_y": null,
      "padding": null,
      "right": null,
      "top": null,
      "visibility": null,
      "width": null
     }
    },
    "abc0d14673bb4312928c972b12e492e0": {
     "model_module": "@jupyter-widgets/base",
     "model_module_version": "1.2.0",
     "model_name": "LayoutModel",
     "state": {
      "_model_module": "@jupyter-widgets/base",
      "_model_module_version": "1.2.0",
      "_model_name": "LayoutModel",
      "_view_count": null,
      "_view_module": "@jupyter-widgets/base",
      "_view_module_version": "1.2.0",
      "_view_name": "LayoutView",
      "align_content": null,
      "align_items": null,
      "align_self": null,
      "border": null,
      "bottom": null,
      "display": null,
      "flex": null,
      "flex_flow": null,
      "grid_area": null,
      "grid_auto_columns": null,
      "grid_auto_flow": null,
      "grid_auto_rows": null,
      "grid_column": null,
      "grid_gap": null,
      "grid_row": null,
      "grid_template_areas": null,
      "grid_template_columns": null,
      "grid_template_rows": null,
      "height": null,
      "justify_content": null,
      "justify_items": null,
      "left": null,
      "margin": null,
      "max_height": null,
      "max_width": null,
      "min_height": null,
      "min_width": null,
      "object_fit": null,
      "object_position": null,
      "order": null,
      "overflow": null,
      "overflow_x": null,
      "overflow_y": null,
      "padding": null,
      "right": null,
      "top": null,
      "visibility": null,
      "width": null
     }
    },
    "b03c8d26c84b43e79b96af17b468b929": {
     "model_module": "@jupyter-widgets/controls",
     "model_module_version": "1.5.0",
     "model_name": "FloatProgressModel",
     "state": {
      "_dom_classes": [],
      "_model_module": "@jupyter-widgets/controls",
      "_model_module_version": "1.5.0",
      "_model_name": "FloatProgressModel",
      "_view_count": null,
      "_view_module": "@jupyter-widgets/controls",
      "_view_module_version": "1.5.0",
      "_view_name": "ProgressView",
      "bar_style": "success",
      "description": "",
      "description_tooltip": null,
      "layout": "IPY_MODEL_aa4663f2da9f4778922e320b004fdbe5",
      "max": 5148,
      "min": 0,
      "orientation": "horizontal",
      "style": "IPY_MODEL_698ccaa78bab415b909675c18332ef63",
      "value": 5148
     }
    },
    "b0b1c684729f423597e8dd8be2d926b9": {
     "model_module": "@jupyter-widgets/controls",
     "model_module_version": "1.5.0",
     "model_name": "ProgressStyleModel",
     "state": {
      "_model_module": "@jupyter-widgets/controls",
      "_model_module_version": "1.5.0",
      "_model_name": "ProgressStyleModel",
      "_view_count": null,
      "_view_module": "@jupyter-widgets/base",
      "_view_module_version": "1.2.0",
      "_view_name": "StyleView",
      "bar_color": null,
      "description_width": ""
     }
    },
    "b831fad64b074703b284c683cd3509d4": {
     "model_module": "@jupyter-widgets/base",
     "model_module_version": "1.2.0",
     "model_name": "LayoutModel",
     "state": {
      "_model_module": "@jupyter-widgets/base",
      "_model_module_version": "1.2.0",
      "_model_name": "LayoutModel",
      "_view_count": null,
      "_view_module": "@jupyter-widgets/base",
      "_view_module_version": "1.2.0",
      "_view_name": "LayoutView",
      "align_content": null,
      "align_items": null,
      "align_self": null,
      "border": null,
      "bottom": null,
      "display": null,
      "flex": null,
      "flex_flow": null,
      "grid_area": null,
      "grid_auto_columns": null,
      "grid_auto_flow": null,
      "grid_auto_rows": null,
      "grid_column": null,
      "grid_gap": null,
      "grid_row": null,
      "grid_template_areas": null,
      "grid_template_columns": null,
      "grid_template_rows": null,
      "height": null,
      "justify_content": null,
      "justify_items": null,
      "left": null,
      "margin": null,
      "max_height": null,
      "max_width": null,
      "min_height": null,
      "min_width": null,
      "object_fit": null,
      "object_position": null,
      "order": null,
      "overflow": null,
      "overflow_x": null,
      "overflow_y": null,
      "padding": null,
      "right": null,
      "top": null,
      "visibility": null,
      "width": null
     }
    },
    "bca009d26050417491388b22330aa83e": {
     "model_module": "@jupyter-widgets/controls",
     "model_module_version": "1.5.0",
     "model_name": "HBoxModel",
     "state": {
      "_dom_classes": [],
      "_model_module": "@jupyter-widgets/controls",
      "_model_module_version": "1.5.0",
      "_model_name": "HBoxModel",
      "_view_count": null,
      "_view_module": "@jupyter-widgets/controls",
      "_view_module_version": "1.5.0",
      "_view_name": "HBoxView",
      "box_style": "",
      "children": [
       "IPY_MODEL_8020c6b7d5ef4d178806458d1ca70313",
       "IPY_MODEL_0b26a16b9fec4bc98181d71f1f1240f1",
       "IPY_MODEL_589c206e6adc468580fd78a840f73979"
      ],
      "layout": "IPY_MODEL_6b4e1f602ff74abe9be6658c4bc4c312"
     }
    },
    "bcef8f9777b04cf3998570db9344ee2f": {
     "model_module": "@jupyter-widgets/controls",
     "model_module_version": "1.5.0",
     "model_name": "FloatProgressModel",
     "state": {
      "_dom_classes": [],
      "_model_module": "@jupyter-widgets/controls",
      "_model_module_version": "1.5.0",
      "_model_name": "FloatProgressModel",
      "_view_count": null,
      "_view_module": "@jupyter-widgets/controls",
      "_view_module_version": "1.5.0",
      "_view_name": "ProgressView",
      "bar_style": "success",
      "description": "",
      "description_tooltip": null,
      "layout": "IPY_MODEL_b831fad64b074703b284c683cd3509d4",
      "max": 29515,
      "min": 0,
      "orientation": "horizontal",
      "style": "IPY_MODEL_5d7e46e0b25c41ad82f38de63ad02485",
      "value": 29515
     }
    },
    "c8d01d4c05d54f41b6036dd632292468": {
     "model_module": "@jupyter-widgets/base",
     "model_module_version": "1.2.0",
     "model_name": "LayoutModel",
     "state": {
      "_model_module": "@jupyter-widgets/base",
      "_model_module_version": "1.2.0",
      "_model_name": "LayoutModel",
      "_view_count": null,
      "_view_module": "@jupyter-widgets/base",
      "_view_module_version": "1.2.0",
      "_view_name": "LayoutView",
      "align_content": null,
      "align_items": null,
      "align_self": null,
      "border": null,
      "bottom": null,
      "display": null,
      "flex": null,
      "flex_flow": null,
      "grid_area": null,
      "grid_auto_columns": null,
      "grid_auto_flow": null,
      "grid_auto_rows": null,
      "grid_column": null,
      "grid_gap": null,
      "grid_row": null,
      "grid_template_areas": null,
      "grid_template_columns": null,
      "grid_template_rows": null,
      "height": null,
      "justify_content": null,
      "justify_items": null,
      "left": null,
      "margin": null,
      "max_height": null,
      "max_width": null,
      "min_height": null,
      "min_width": null,
      "object_fit": null,
      "object_position": null,
      "order": null,
      "overflow": null,
      "overflow_x": null,
      "overflow_y": null,
      "padding": null,
      "right": null,
      "top": null,
      "visibility": null,
      "width": null
     }
    },
    "d33ec81f61734626b8aac68ca1319ea9": {
     "model_module": "@jupyter-widgets/base",
     "model_module_version": "1.2.0",
     "model_name": "LayoutModel",
     "state": {
      "_model_module": "@jupyter-widgets/base",
      "_model_module_version": "1.2.0",
      "_model_name": "LayoutModel",
      "_view_count": null,
      "_view_module": "@jupyter-widgets/base",
      "_view_module_version": "1.2.0",
      "_view_name": "LayoutView",
      "align_content": null,
      "align_items": null,
      "align_self": null,
      "border": null,
      "bottom": null,
      "display": null,
      "flex": null,
      "flex_flow": null,
      "grid_area": null,
      "grid_auto_columns": null,
      "grid_auto_flow": null,
      "grid_auto_rows": null,
      "grid_column": null,
      "grid_gap": null,
      "grid_row": null,
      "grid_template_areas": null,
      "grid_template_columns": null,
      "grid_template_rows": null,
      "height": null,
      "justify_content": null,
      "justify_items": null,
      "left": null,
      "margin": null,
      "max_height": null,
      "max_width": null,
      "min_height": null,
      "min_width": null,
      "object_fit": null,
      "object_position": null,
      "order": null,
      "overflow": null,
      "overflow_x": null,
      "overflow_y": null,
      "padding": null,
      "right": null,
      "top": null,
      "visibility": null,
      "width": null
     }
    },
    "d669ffce7e8a417dadc1781a782c33e4": {
     "model_module": "@jupyter-widgets/base",
     "model_module_version": "1.2.0",
     "model_name": "LayoutModel",
     "state": {
      "_model_module": "@jupyter-widgets/base",
      "_model_module_version": "1.2.0",
      "_model_name": "LayoutModel",
      "_view_count": null,
      "_view_module": "@jupyter-widgets/base",
      "_view_module_version": "1.2.0",
      "_view_name": "LayoutView",
      "align_content": null,
      "align_items": null,
      "align_self": null,
      "border": null,
      "bottom": null,
      "display": null,
      "flex": null,
      "flex_flow": null,
      "grid_area": null,
      "grid_auto_columns": null,
      "grid_auto_flow": null,
      "grid_auto_rows": null,
      "grid_column": null,
      "grid_gap": null,
      "grid_row": null,
      "grid_template_areas": null,
      "grid_template_columns": null,
      "grid_template_rows": null,
      "height": null,
      "justify_content": null,
      "justify_items": null,
      "left": null,
      "margin": null,
      "max_height": null,
      "max_width": null,
      "min_height": null,
      "min_width": null,
      "object_fit": null,
      "object_position": null,
      "order": null,
      "overflow": null,
      "overflow_x": null,
      "overflow_y": null,
      "padding": null,
      "right": null,
      "top": null,
      "visibility": null,
      "width": null
     }
    },
    "d6f4d7014ddf4642aa7d8142c2a19df1": {
     "model_module": "@jupyter-widgets/base",
     "model_module_version": "1.2.0",
     "model_name": "LayoutModel",
     "state": {
      "_model_module": "@jupyter-widgets/base",
      "_model_module_version": "1.2.0",
      "_model_name": "LayoutModel",
      "_view_count": null,
      "_view_module": "@jupyter-widgets/base",
      "_view_module_version": "1.2.0",
      "_view_name": "LayoutView",
      "align_content": null,
      "align_items": null,
      "align_self": null,
      "border": null,
      "bottom": null,
      "display": null,
      "flex": null,
      "flex_flow": null,
      "grid_area": null,
      "grid_auto_columns": null,
      "grid_auto_flow": null,
      "grid_auto_rows": null,
      "grid_column": null,
      "grid_gap": null,
      "grid_row": null,
      "grid_template_areas": null,
      "grid_template_columns": null,
      "grid_template_rows": null,
      "height": null,
      "justify_content": null,
      "justify_items": null,
      "left": null,
      "margin": null,
      "max_height": null,
      "max_width": null,
      "min_height": null,
      "min_width": null,
      "object_fit": null,
      "object_position": null,
      "order": null,
      "overflow": null,
      "overflow_x": null,
      "overflow_y": null,
      "padding": null,
      "right": null,
      "top": null,
      "visibility": null,
      "width": null
     }
    },
    "df3514f33b4b4def9892e5371cfeb854": {
     "model_module": "@jupyter-widgets/controls",
     "model_module_version": "1.5.0",
     "model_name": "HTMLModel",
     "state": {
      "_dom_classes": [],
      "_model_module": "@jupyter-widgets/controls",
      "_model_module_version": "1.5.0",
      "_model_name": "HTMLModel",
      "_view_count": null,
      "_view_module": "@jupyter-widgets/controls",
      "_view_module_version": "1.5.0",
      "_view_name": "HTMLView",
      "description": "",
      "description_tooltip": null,
      "layout": "IPY_MODEL_e4fb73be03c64ecd84a1a04269dda884",
      "placeholder": "​",
      "style": "IPY_MODEL_45c1dc39794f4de7864519932b994b8b",
      "value": "100%"
     }
    },
    "e4fb73be03c64ecd84a1a04269dda884": {
     "model_module": "@jupyter-widgets/base",
     "model_module_version": "1.2.0",
     "model_name": "LayoutModel",
     "state": {
      "_model_module": "@jupyter-widgets/base",
      "_model_module_version": "1.2.0",
      "_model_name": "LayoutModel",
      "_view_count": null,
      "_view_module": "@jupyter-widgets/base",
      "_view_module_version": "1.2.0",
      "_view_name": "LayoutView",
      "align_content": null,
      "align_items": null,
      "align_self": null,
      "border": null,
      "bottom": null,
      "display": null,
      "flex": null,
      "flex_flow": null,
      "grid_area": null,
      "grid_auto_columns": null,
      "grid_auto_flow": null,
      "grid_auto_rows": null,
      "grid_column": null,
      "grid_gap": null,
      "grid_row": null,
      "grid_template_areas": null,
      "grid_template_columns": null,
      "grid_template_rows": null,
      "height": null,
      "justify_content": null,
      "justify_items": null,
      "left": null,
      "margin": null,
      "max_height": null,
      "max_width": null,
      "min_height": null,
      "min_width": null,
      "object_fit": null,
      "object_position": null,
      "order": null,
      "overflow": null,
      "overflow_x": null,
      "overflow_y": null,
      "padding": null,
      "right": null,
      "top": null,
      "visibility": null,
      "width": null
     }
    },
    "ec878b7e3d644dc3b73f2f7f63163dc4": {
     "model_module": "@jupyter-widgets/controls",
     "model_module_version": "1.5.0",
     "model_name": "HBoxModel",
     "state": {
      "_dom_classes": [],
      "_model_module": "@jupyter-widgets/controls",
      "_model_module_version": "1.5.0",
      "_model_name": "HBoxModel",
      "_view_count": null,
      "_view_module": "@jupyter-widgets/controls",
      "_view_module_version": "1.5.0",
      "_view_name": "HBoxView",
      "box_style": "",
      "children": [
       "IPY_MODEL_df3514f33b4b4def9892e5371cfeb854",
       "IPY_MODEL_bcef8f9777b04cf3998570db9344ee2f",
       "IPY_MODEL_44cc7f63f81d43378ec0698ec06c177f"
      ],
      "layout": "IPY_MODEL_7779396776ca48e895fd5c3fd5c87fe0"
     }
    },
    "ef4d1177037c4440a812ac42282ca11d": {
     "model_module": "@jupyter-widgets/controls",
     "model_module_version": "1.5.0",
     "model_name": "FloatProgressModel",
     "state": {
      "_dom_classes": [],
      "_model_module": "@jupyter-widgets/controls",
      "_model_module_version": "1.5.0",
      "_model_name": "FloatProgressModel",
      "_view_count": null,
      "_view_module": "@jupyter-widgets/controls",
      "_view_module_version": "1.5.0",
      "_view_name": "ProgressView",
      "bar_style": "success",
      "description": "",
      "description_tooltip": null,
      "layout": "IPY_MODEL_414e74e484a04165a06d677cb473f968",
      "max": 26421880,
      "min": 0,
      "orientation": "horizontal",
      "style": "IPY_MODEL_267f466d3d584c6aa4a2d79dfbf71eac",
      "value": 26421880
     }
    },
    "f1f12cc4d5d34380ad8cb286da9c6385": {
     "model_module": "@jupyter-widgets/controls",
     "model_module_version": "1.5.0",
     "model_name": "DescriptionStyleModel",
     "state": {
      "_model_module": "@jupyter-widgets/controls",
      "_model_module_version": "1.5.0",
      "_model_name": "DescriptionStyleModel",
      "_view_count": null,
      "_view_module": "@jupyter-widgets/base",
      "_view_module_version": "1.2.0",
      "_view_name": "StyleView",
      "description_width": ""
     }
    },
    "fbe71af414a34447832379a871eabd18": {
     "model_module": "@jupyter-widgets/controls",
     "model_module_version": "1.5.0",
     "model_name": "HBoxModel",
     "state": {
      "_dom_classes": [],
      "_model_module": "@jupyter-widgets/controls",
      "_model_module_version": "1.5.0",
      "_model_name": "HBoxModel",
      "_view_count": null,
      "_view_module": "@jupyter-widgets/controls",
      "_view_module_version": "1.5.0",
      "_view_name": "HBoxView",
      "box_style": "",
      "children": [
       "IPY_MODEL_1ff8bccbae034f0aa0753fdc9ba7c4e5",
       "IPY_MODEL_ef4d1177037c4440a812ac42282ca11d",
       "IPY_MODEL_6062c5d52e554208868a4c833d4ef2c5"
      ],
      "layout": "IPY_MODEL_53dbe9a6319042c2a5b6d561312ada13"
     }
    }
   }
  }
 },
 "nbformat": 4,
 "nbformat_minor": 1
}
